{
 "cells": [
  {
   "cell_type": "markdown",
   "metadata": {},
   "source": [
    "# Reinforcement Learning - Deep Q Network"
   ]
  },
  {
   "cell_type": "code",
   "execution_count": 1,
   "metadata": {
    "tags": []
   },
   "outputs": [
    {
     "name": "stdout",
     "output_type": "stream",
     "text": [
      "Requirement already satisfied: gym==0.10.8 in /anaconda/envs/py37_pytorch/lib/python3.7/site-packages (0.10.8)\n",
      "Requirement already satisfied: pyglet>=1.2.0 in /anaconda/envs/py37_pytorch/lib/python3.7/site-packages (from gym==0.10.8) (1.5.0)\n",
      "Requirement already satisfied: requests>=2.0 in /anaconda/envs/py37_pytorch/lib/python3.7/site-packages (from gym==0.10.8) (2.24.0)\n",
      "Requirement already satisfied: numpy>=1.10.4 in /anaconda/envs/py37_pytorch/lib/python3.7/site-packages (from gym==0.10.8) (1.18.5)\n",
      "Requirement already satisfied: six in /anaconda/envs/py37_pytorch/lib/python3.7/site-packages (from gym==0.10.8) (1.15.0)\n",
      "Requirement already satisfied: scipy in /anaconda/envs/py37_pytorch/lib/python3.7/site-packages (from gym==0.10.8) (1.5.0)\n",
      "Requirement already satisfied: future in /anaconda/envs/py37_pytorch/lib/python3.7/site-packages (from pyglet>=1.2.0->gym==0.10.8) (0.18.2)\n",
      "Requirement already satisfied: chardet<4,>=3.0.2 in /anaconda/envs/py37_pytorch/lib/python3.7/site-packages (from requests>=2.0->gym==0.10.8) (3.0.4)\n",
      "Requirement already satisfied: certifi>=2017.4.17 in /anaconda/envs/py37_pytorch/lib/python3.7/site-packages (from requests>=2.0->gym==0.10.8) (2020.6.20)\n",
      "Requirement already satisfied: urllib3!=1.25.0,!=1.25.1,<1.26,>=1.21.1 in /anaconda/envs/py37_pytorch/lib/python3.7/site-packages (from requests>=2.0->gym==0.10.8) (1.25.9)\n",
      "Requirement already satisfied: idna<3,>=2.5 in /anaconda/envs/py37_pytorch/lib/python3.7/site-packages (from requests>=2.0->gym==0.10.8) (2.10)\n",
      "Requirement already satisfied: box2d in /anaconda/envs/py37_pytorch/lib/python3.7/site-packages (2.3.10)\n"
     ]
    }
   ],
   "source": [
    "import numpy as np\n",
    "import random\n",
    "import torch\n",
    "import copy\n",
    "from torch import nn\n",
    "import torch.nn.functional as F\n",
    "from torch import optim\n",
    "from tqdm import tqdm as _tqdm\n",
    "import os\n",
    "\n",
    "def tqdm(*args, **kwargs):\n",
    "    return _tqdm(*args, **kwargs, mininterval=1) \n",
    "\n",
    "%matplotlib inline\n",
    "import matplotlib.pyplot as plt\n",
    "import sys\n",
    "import time\n",
    "\n",
    "!pip install gym==0.10.8\n",
    "!pip install box2d\n",
    "import gym\n",
    "import pandas as pd\n",
    "\n",
    "\n",
    "assert sys.version_info[:3] >= (3, 6, 0), \"Make sure you have Python 3.6 installed!\""
   ]
  },
  {
   "cell_type": "code",
   "execution_count": 2,
   "metadata": {
    "nbgrader": {
     "grade": false,
     "grade_id": "cell-216429a5dccf8a0e",
     "locked": false,
     "schema_version": 1,
     "solution": true
    },
    "tags": []
   },
   "outputs": [],
   "source": [
    "class QNetwork(nn.Module):\n",
    "    \n",
    "    def __init__(self, num_hidden=128, observation_space=4, action_space=2):\n",
    "        nn.Module.__init__(self)\n",
    "        self.l1 = nn.Linear(observation_space, num_hidden)\n",
    "        self.l2 = nn.Linear(num_hidden, action_space)\n",
    "        self.relu = nn.ReLU()\n",
    "\n",
    "    def forward(self, x):\n",
    "        out = self.relu(self.l1(x))\n",
    "        out = self.l2(out)\n",
    "\n",
    "        return out"
   ]
  },
  {
   "cell_type": "code",
   "execution_count": 3,
   "metadata": {
    "nbgrader": {
     "grade": false,
     "grade_id": "cell-a3cc876e51eb157f",
     "locked": false,
     "schema_version": 1,
     "solution": true
    },
    "tags": []
   },
   "outputs": [],
   "source": [
    "class ReplayMemory:\n",
    "    \n",
    "    def __init__(self, capacity):\n",
    "        self.capacity = capacity\n",
    "        self.memory = []\n",
    "\n",
    "    def push(self, transition):\n",
    "        self.memory.append(transition)\n",
    "        if len(self.memory) > self.capacity:\n",
    "            self.memory.pop(0)\n",
    "\n",
    "    def sample(self, batch_size):\n",
    "        batch = random.sample(self.memory, batch_size)\n",
    "        return batch\n",
    "\n",
    "    def __len__(self):\n",
    "        return len(self.memory)"
   ]
  },
  {
   "cell_type": "code",
   "execution_count": 4,
   "metadata": {
    "nbgrader": {
     "grade": false,
     "grade_id": "cell-878ad3a637cfb51c",
     "locked": false,
     "schema_version": 1,
     "solution": true
    },
    "tags": []
   },
   "outputs": [],
   "source": [
    "class EpsilonGreedyPolicy(object):\n",
    "    \"\"\"\n",
    "    A simple epsilon greedy policy.\n",
    "    \"\"\"\n",
    "    def __init__(self, Q, epsilon):\n",
    "        self.Q = Q\n",
    "        self.epsilon = epsilon\n",
    "    \n",
    "    def sample_action(self, obs, device):\n",
    "        \"\"\"\n",
    "        This method takes a state as input and returns an action sampled from this policy.  \n",
    "\n",
    "        Args:\n",
    "            obs: current state\n",
    "\n",
    "        Returns:\n",
    "            An action (int).\n",
    "        \"\"\"\n",
    "        if random.random() < self.epsilon:\n",
    "            action = random.randint(0, 1)\n",
    "        else:\n",
    "            with torch.no_grad():\n",
    "                action = torch.argmax(self.Q(torch.Tensor(obs).to(device))).item()\n",
    "        return int(action)\n",
    "        \n",
    "    def set_epsilon(self, epsilon):\n",
    "        self.epsilon = epsilon"
   ]
  },
  {
   "cell_type": "code",
   "execution_count": 5,
   "metadata": {
    "nbgrader": {
     "grade": false,
     "grade_id": "cell-6c45485324b40081",
     "locked": false,
     "schema_version": 1,
     "solution": true
    },
    "tags": []
   },
   "outputs": [],
   "source": [
    "def get_epsilon(it, start=1, end=0.05, length=1000):\n",
    "    if it < length:\n",
    "        epsilon =  - it/(1000/0.95)\n",
    "    else:\n",
    "        epsilon = 0.05\n",
    "    return epsilon\n",
    "\n",
    "def smooth(x, N):\n",
    "    cumsum = np.cumsum(np.insert(x, 0, 0)) \n",
    "    return (cumsum[N:] - cumsum[:-N]) / float(N)\n",
    "\n",
    "def compute_q_vals(Q, states, actions, device):\n",
    "    \"\"\"\n",
    "    This method returns Q values for given state action pairs.\n",
    "    \n",
    "    Args:\n",
    "        Q: Q-net\n",
    "        states: a tensor of states. Shape: batch_size x obs_dim\n",
    "        actions: a tensor of actions. Shape: Shape: batch_size x 1\n",
    "\n",
    "    Returns:\n",
    "        A torch tensor filled with Q values. Shape: batch_size x 1.\n",
    "    \"\"\"\n",
    "    QValues = Q(states.to(device))[torch.arange(len(actions)).to(device), actions.squeeze().to(device)]\n",
    "    return QValues.unsqueeze(dim=1)\n",
    "\n",
    "def compute_targets(Q, rewards, next_states, dones, discount_factor, target_net, device):\n",
    "    \"\"\"\n",
    "    This method returns targets (values towards which Q-values should move).\n",
    "    \n",
    "    Args:\n",
    "        Q: Q-net\n",
    "        rewards: a tensor of actions. Shape: Shape: batch_size x 1\n",
    "        next_states: a tensor of states. Shape: batch_size x obs_dim\n",
    "        dones: a tensor of boolean done flags (indicates if next_state is terminal) Shape: batch_size x 1\n",
    "        discount_factor: discount\n",
    "    Returns:\n",
    "        A torch tensor filled with target values. Shape: batch_size x 1.\n",
    "    \"\"\"\n",
    "    maxQs = torch.max(target_net(next_states.to(device)), 1).values\n",
    "    if isinstance(dones, torch.BoolTensor):\n",
    "        targets = rewards.to(device) + discount_factor * maxQs.unsqueeze(dim=1).to(device) * (~dones).to(device)\n",
    "    else:\n",
    "        targets = rewards.to(device) + discount_factor * maxQs.unsqueeze(dim=1).to(device) * (1 - dones).to(device)\n",
    "    return targets\n",
    "    \n",
    "def train(Q, memory, optimizer, batch_size, discount_factor, target_net, device):\n",
    "    # don't learn without some decent experience\n",
    "    if len(memory) < batch_size:\n",
    "        return None\n",
    "\n",
    "    # random transition batch is taken from experience replay memory\n",
    "    transitions = memory.sample(batch_size)\n",
    "    \n",
    "    # transition is a list of 4-tuples, instead we want 4 vectors (as torch.Tensor's)\n",
    "    state, action, reward, next_state, done = zip(*transitions)\n",
    "    \n",
    "    # convert to PyTorch and define types\n",
    "    state = torch.tensor(state, dtype=torch.float)\n",
    "    action = torch.tensor(action, dtype=torch.int64)[:, None]  # Need 64 bit to use them as index\n",
    "    next_state = torch.tensor(next_state, dtype=torch.float)\n",
    "    reward = torch.tensor(reward, dtype=torch.float)[:, None]\n",
    "    done = torch.tensor(done, dtype=torch.uint8)[:, None]  # Boolean\n",
    "    \n",
    "    # compute the q value\n",
    "    q_val = compute_q_vals(Q, state, action, device)\n",
    "    with torch.no_grad():  # Don't compute gradient info for the target (semi-gradient)\n",
    "        target = compute_targets(Q, reward, next_state, done, discount_factor, target_net, device)\n",
    "    \n",
    "    # loss is measured from error between current and newly expected Q values\n",
    "    loss = F.smooth_l1_loss(q_val, target)\n",
    "\n",
    "    # backpropagation of loss to Neural Network (PyTorch magic)\n",
    "    optimizer.zero_grad()\n",
    "    loss.backward()\n",
    "    optimizer.step()\n",
    "    \n",
    "    return loss.item()  # Returns a Python scalar, and releases history (similar to .detach())"
   ]
  },
  {
   "cell_type": "code",
   "execution_count": 6,
   "metadata": {
    "nbgrader": {
     "grade": false,
     "grade_id": "cell-540a7d50ecc1d046",
     "locked": false,
     "schema_version": 1,
     "solution": true
    },
    "tags": []
   },
   "outputs": [],
   "source": [
    "\n",
    "def run_episodes(train, Q, policy, memory, env, num_episodes, batch_size, discount_factor, learn_rate, device, rendering_criterium=999999, use_target_net=True):\n",
    "    optimizer = optim.Adam(Q.parameters(), learn_rate)\n",
    "    if use_target_net:\n",
    "        TARGET_UPDATE = 10\n",
    "        target_net = copy.deepcopy(Q)\n",
    "        target_net.eval()\n",
    "    else:\n",
    "        target_net = Q\n",
    "    \n",
    "    global_steps = 0  # Count the steps (do not reset at episode start, to compute epsilon)\n",
    "    episode_scores = []  #\n",
    "    rendering = False\n",
    "    for i in tqdm(range(num_episodes)):\n",
    "        state = env.reset()\n",
    "        \n",
    "        score = 0\n",
    "        while True:\n",
    "            policy.set_epsilon(get_epsilon(global_steps))\n",
    "            action = policy.sample_action(state, device)\n",
    "            state_next, reward, done, _ = env.step(action)                \n",
    "\n",
    "            loss = train(Q, memory, optimizer, batch_size, discount_factor, target_net, device)\n",
    "\n",
    "            global_steps += 1\n",
    "            score += reward\n",
    "\n",
    "            if rendering:\n",
    "                env.render()\n",
    "                time.sleep(0.05)\n",
    "\n",
    "            memory.push((state, action, reward, state_next, done))\n",
    "            state = state_next\n",
    "\n",
    "            if done:\n",
    "                # if i % 10 == 0:\n",
    "                    # print(\"{2} Episode {0} finished with a score of {1}\"\n",
    "                        #   .format(i, score, '\\033[99m'))\n",
    "                episode_scores.append(score)\n",
    "\n",
    "                if score > rendering_criterium:\n",
    "                    input(\"rendering\")\n",
    "                    rendering = True\n",
    "                else:\n",
    "                    rendering = False\n",
    "                break\n",
    "                \n",
    "            if use_target_net and (i % TARGET_UPDATE == 0):\n",
    "                target_net.load_state_dict(Q.state_dict())\n",
    "            \n",
    "        env.close()\n",
    "    return episode_scores"
   ]
  },
  {
   "cell_type": "code",
   "execution_count": 7,
   "metadata": {
    "tags": []
   },
   "outputs": [
    {
     "name": "stderr",
     "output_type": "stream",
     "text": [
      "/anaconda/envs/py37_pytorch/lib/python3.7/site-packages/gym/envs/registration.py:14: PkgResourcesDeprecationWarning: Parameters to load are deprecated.  Call .resolve and .require separately.\n",
      "  result = entry_point.load(False)\n"
     ]
    }
   ],
   "source": [
    "####### OpenAI Gym Discrete Action Classic Control Envs ########\n",
    "\n",
    "# new_env = gym.envs.make(\"MountainCar-v0\")\n",
    "# rendering_criterium = -200\n",
    "\n",
    "# new_env = gym.envs.make(\"CartPole-v1\")\n",
    "# rendering_criterium = 200\n",
    "\n",
    "# new_env = gym.envs.make(\"Acrobot-v1\")\n",
    "# rendering_criterium = -200\n",
    "\n",
    "####### OpenAI Gym Discrete Action Box2D Envs ########\n",
    "\n",
    "new_env = gym.envs.make(\"LunarLander-v2\")\n",
    "# rendering_criterium = -100\n",
    "\n",
    "rendering_criterium = 9999999\n",
    "#####################################################################\n",
    "#####################################################################\n",
    "\n",
    "########### Could try Gym Envs ###################\n",
    "\n",
    "# https://github.com/paulhendricks/gym-inventory\n",
    "# gym-inventory is a single agent domain featuring discrete state and action spaces that an AI agent might encounter in inventory control problems.\n",
    "\n",
    "# gym-maze: 2D maze environment\n",
    "# A simple 2D maze environment where an agent finds its way from the start position to the goal.\n",
    "# Learn more here: https://github.com/tuzzer/gym-maze/\n",
    "\n",
    "# Works with pixels, so not really suited for us\n",
    "# gym-minigrid: Minimalistic Gridworld Environment\n",
    "# A minimalistic gridworld environment. Seeks to minimize software dependencies, be easy to extend and deliver good performance for faster training.\n",
    "# Learn more here: https://github.com/maximecb/gym-minigrid\n",
    "\n",
    "# gym-anytrading: Environments for trading markets\n",
    "# AnyTrading is a collection of OpenAI Gym environments for reinforcement learning-based trading algorithms with a great focus on simplicity, flexibility, and comprehensiveness.\n",
    "# https://github.com/AminHP/gym-anytrading\n",
    "\n",
    "# Actually continious, could work when discretely controlled, requires little hack. Seems too simple tho.\n",
    "# new_env = gym.envs.make(\"CarRacing-v0\")\n",
    "\n",
    "############# NOTES #####################\n",
    "\n",
    "# w/ experience replay, w/o target network:\n",
    "# Converging:\n",
    "\n",
    "# CartPole-v1\n",
    "# Acrobot-v1\n",
    "# LunarLander-v2\n",
    "\n",
    "# not converging: \n",
    "# MountainCar-v0, tested up to 5k episodes < too sparse rewards? \n",
    "\n",
    "# w/ experience replay, w/ target network:\n",
    "# Converging:\n",
    "\n",
    "# CartPole-v1\n",
    "# Acrobot-v1\n",
    "# LunarLander-v2\n",
    "\n",
    "# not converging: \n",
    "# MountainCar-v0, tested up to 5k episodes < too sparse rewards? \n",
    "\n",
    "\n"
   ]
  },
  {
   "cell_type": "code",
   "execution_count": 8,
   "metadata": {
    "tags": []
   },
   "outputs": [],
   "source": [
    "# # Let's run it!\n",
    "# num_episodes = 1000\n",
    "# batch_size = 64\n",
    "# discount_factor = 0.8\n",
    "# learn_rate = 1e-3\n",
    "# memory = ReplayMemory(10000)\n",
    "# num_hidden = 128\n",
    "# seed = 42  # This is not randomly chosen\n",
    "\n",
    "# # We will seed the algorithm (before initializing QNetwork!) for reproducibility\n",
    "# random.seed(seed)\n",
    "# torch.manual_seed(seed)\n",
    "# new_env.seed(seed)\n",
    "\n",
    "# try:\n",
    "#     # Continious obs space\n",
    "#     Q_net = QNetwork(num_hidden, observation_space=new_env.observation_space.low.shape[0], action_space=new_env.action_space.n)\n",
    "#     obs_space = new_env.observation_space.low.shape[0]\n",
    "# except:\n",
    "#     # Discrete obs space\n",
    "#     Q_net = QNetwork(num_hidden, observation_space=new_env.observation_space.n, action_space=new_env.action_space.n)\n",
    "#     obs_space = new_env.observation_space.n\n",
    "\n",
    "# print(Q_net)\n",
    "\n",
    "\n",
    "# policy = EpsilonGreedyPolicy(Q_net, 0.05)\n",
    "# episode_durations = run_episodes(train, Q_net, policy, memory, new_env, num_episodes, batch_size, discount_factor, learn_rate, rendering_criterium=rendering_criterium)\n",
    "\n",
    "# plt.plot(smooth(episode_durations, 10))\n",
    "# plt.title('Episode durations per episode')"
   ]
  },
  {
   "cell_type": "code",
   "execution_count": 9,
   "metadata": {
    "tags": []
   },
   "outputs": [],
   "source": [
    "# test_envs = [\"MountainCar-v0\", \"CartPole-v1\", \"Acrobot-v1\", \"LunarLander-v2\"]\n",
    "\n",
    "# # Let's run it!\n",
    "# num_episodes = 5000\n",
    "# batch_size = 64\n",
    "# discount_factor = 0.8\n",
    "# learn_rate = 1e-3 # important\n",
    "# num_hidden = 128 # important\n",
    "\n",
    "# seed = 42\n",
    "# runs_per_setup = 10\n",
    "# for use_replay in [True]:\n",
    "#     for i in range(runs_per_setup):\n",
    "#         for env in test_envs:\n",
    "#             for use_target in [True, False]:\n",
    "#                 seed += 1\n",
    "#                 new_env = gym.envs.make(env)\n",
    "\n",
    "\n",
    "#                 if use_replay:\n",
    "#                     memory = ReplayMemory(10000)\n",
    "#                 else:\n",
    "#                     memory = ReplayMemory(1)\n",
    "                \n",
    "#                 # We will seed the algorithm (before initializing QNetwork!) for reproducibility\n",
    "#                 random.seed(seed)\n",
    "#                 torch.manual_seed(seed)\n",
    "#                 new_env.seed(seed)\n",
    "\n",
    "#                 try:\n",
    "#                     # Continious obs space\n",
    "#                     Q_net = QNetwork(num_hidden, observation_space=new_env.observation_space.low.shape[0], action_space=new_env.action_space.n)\n",
    "#                     obs_space = new_env.observation_space.low.shape[0]\n",
    "#                 except:\n",
    "#                     # Discrete obs space\n",
    "#                     Q_net = QNetwork(num_hidden, observation_space=new_env.observation_space.n, action_space=new_env.action_space.n)\n",
    "#                     obs_space = new_env.observation_space.n\n",
    "\n",
    "#                 policy = EpsilonGreedyPolicy(Q_net, 0.05)\n",
    "#                 episode_durations = run_episodes(train, Q_net, policy, memory, new_env, num_episodes, batch_size, discount_factor, learn_rate, rendering_criterium=rendering_criterium, use_target_net=use_target)\n",
    "\n",
    "#                 plt.plot(smooth(episode_durations, 10))\n",
    "#                 plt.title(f'{env},  target net = {use_target}, Experience replay = {use_replay}, score/episode')\n",
    "#                 plt.savefig(f'{env},  target net {use_target}, Experience replay {use_replay} run {i}')\n",
    "#                 plt.show()\n"
   ]
  },
  {
   "cell_type": "code",
   "execution_count": 10,
   "metadata": {},
   "outputs": [],
   "source": [
    "# Target net doesn't seem to have a clear positive effect\n",
    "# W/o experience replay (memory size =1), very bad results"
   ]
  },
  {
   "cell_type": "code",
   "execution_count": null,
   "metadata": {
    "tags": [
     "outputPrepend"
    ]
   },
   "outputs": [
    {
     "name": "stderr",
     "output_type": "stream",
     "text": [
      "  0%|          | 0/2000 [00:00<?, ?it/s]"
     ]
    },
    {
     "name": "stdout",
     "output_type": "stream",
     "text": [
      "cuda:0\n"
     ]
    },
    {
     "name": "stderr",
     "output_type": "stream",
     "text": [
      "100%|██████████| 2000/2000 [07:11<00:00,  4.64it/s]\n",
      "100%|██████████| 2000/2000 [06:52<00:00,  4.85it/s]\n",
      "  0%|          | 0/2000 [00:00<?, ?it/s]"
     ]
    },
    {
     "name": "stdout",
     "output_type": "stream",
     "text": [
      "\u001b[33mWARN: gym.spaces.Box autodetected dtype as <class 'numpy.float32'>. Please provide explicit dtype.\u001b[0m\n"
     ]
    },
    {
     "name": "stderr",
     "output_type": "stream",
     "text": [
      "100%|██████████| 2000/2000 [44:14<00:00,  1.33s/it]\n",
      "  0%|          | 0/2000 [00:00<?, ?it/s]"
     ]
    },
    {
     "name": "stdout",
     "output_type": "stream",
     "text": [
      "\u001b[33mWARN: gym.spaces.Box autodetected dtype as <class 'numpy.float32'>. Please provide explicit dtype.\u001b[0m\n"
     ]
    },
    {
     "name": "stderr",
     "output_type": "stream",
     "text": [
      "100%|██████████| 2000/2000 [43:58<00:00,  1.32s/it]\n",
      "100%|██████████| 2000/2000 [1:10:12<00:00,  2.11s/it]\n",
      "100%|██████████| 2000/2000 [1:13:48<00:00,  2.21s/it]\n",
      "  0%|          | 0/2000 [00:00<?, ?it/s]"
     ]
    },
    {
     "name": "stdout",
     "output_type": "stream",
     "text": [
      "\u001b[33mWARN: gym.spaces.Box autodetected dtype as <class 'numpy.float32'>. Please provide explicit dtype.\u001b[0m\n"
     ]
    },
    {
     "name": "stderr",
     "output_type": "stream",
     "text": [
      "100%|██████████| 2000/2000 [18:48<00:00,  1.77it/s]\n",
      "  0%|          | 0/2000 [00:00<?, ?it/s]"
     ]
    },
    {
     "name": "stdout",
     "output_type": "stream",
     "text": [
      "\u001b[33mWARN: gym.spaces.Box autodetected dtype as <class 'numpy.float32'>. Please provide explicit dtype.\u001b[0m\n"
     ]
    },
    {
     "name": "stderr",
     "output_type": "stream",
     "text": [
      "100%|██████████| 2000/2000 [18:39<00:00,  1.79it/s]\n",
      "100%|██████████| 2000/2000 [07:27<00:00,  4.46it/s]\n",
      "100%|██████████| 2000/2000 [07:56<00:00,  4.20it/s]\n",
      "  0%|          | 0/2000 [00:00<?, ?it/s]"
     ]
    },
    {
     "name": "stdout",
     "output_type": "stream",
     "text": [
      "\u001b[33mWARN: gym.spaces.Box autodetected dtype as <class 'numpy.float32'>. Please provide explicit dtype.\u001b[0m\n"
     ]
    },
    {
     "name": "stderr",
     "output_type": "stream",
     "text": [
      "100%|██████████| 2000/2000 [44:18<00:00,  1.33s/it]\n",
      "  0%|          | 0/2000 [00:00<?, ?it/s]"
     ]
    },
    {
     "name": "stdout",
     "output_type": "stream",
     "text": [
      "\u001b[33mWARN: gym.spaces.Box autodetected dtype as <class 'numpy.float32'>. Please provide explicit dtype.\u001b[0m\n"
     ]
    },
    {
     "name": "stderr",
     "output_type": "stream",
     "text": [
      "100%|██████████| 2000/2000 [43:58<00:00,  1.32s/it]\n",
      "100%|██████████| 2000/2000 [1:17:12<00:00,  2.32s/it]\n",
      "100%|██████████| 2000/2000 [1:12:21<00:00,  2.17s/it]\n",
      "  0%|          | 0/2000 [00:00<?, ?it/s]"
     ]
    },
    {
     "name": "stdout",
     "output_type": "stream",
     "text": [
      "\u001b[33mWARN: gym.spaces.Box autodetected dtype as <class 'numpy.float32'>. Please provide explicit dtype.\u001b[0m\n"
     ]
    },
    {
     "name": "stderr",
     "output_type": "stream",
     "text": [
      "100%|██████████| 2000/2000 [19:01<00:00,  1.75it/s]\n",
      "  0%|          | 0/2000 [00:00<?, ?it/s]"
     ]
    },
    {
     "name": "stdout",
     "output_type": "stream",
     "text": [
      "\u001b[33mWARN: gym.spaces.Box autodetected dtype as <class 'numpy.float32'>. Please provide explicit dtype.\u001b[0m\n"
     ]
    },
    {
     "name": "stderr",
     "output_type": "stream",
     "text": [
      "100%|██████████| 2000/2000 [18:58<00:00,  1.76it/s]\n",
      "100%|██████████| 2000/2000 [07:17<00:00,  4.57it/s]\n",
      "100%|██████████| 2000/2000 [06:16<00:00,  5.31it/s]\n",
      "  0%|          | 0/2000 [00:00<?, ?it/s]"
     ]
    },
    {
     "name": "stdout",
     "output_type": "stream",
     "text": [
      "\u001b[33mWARN: gym.spaces.Box autodetected dtype as <class 'numpy.float32'>. Please provide explicit dtype.\u001b[0m\n"
     ]
    },
    {
     "name": "stderr",
     "output_type": "stream",
     "text": [
      "100%|██████████| 2000/2000 [45:57<00:00,  1.38s/it]\n",
      "  0%|          | 0/2000 [00:00<?, ?it/s]"
     ]
    },
    {
     "name": "stdout",
     "output_type": "stream",
     "text": [
      "\u001b[33mWARN: gym.spaces.Box autodetected dtype as <class 'numpy.float32'>. Please provide explicit dtype.\u001b[0m\n"
     ]
    },
    {
     "name": "stderr",
     "output_type": "stream",
     "text": [
      " 60%|█████▉    | 1198/2000 [27:33<20:39,  1.55s/it]"
     ]
    }
   ],
   "source": [
    "cuda_ = \"cuda:0\"\n",
    "device = torch.device(cuda_ if torch.cuda.is_available() else \"cpu\")\n",
    "\n",
    "seed = 42\n",
    "rendering_criterium = 9999999\n",
    "results = []\n",
    "\n",
    "print(device)\n",
    "\n",
    "test_envs = [\"CartPole-v1\", \"Acrobot-v1\", \"LunarLander-v2\", \"MountainCar-v0\" ]\n",
    "runs_per_setup = 25\n",
    "num_episodes = 2000\n",
    "discount_factor = 0.8\n",
    "\n",
    "for i in range(runs_per_setup):                      \n",
    "    for memory_size in [10000]:                    # 2\n",
    "        for learn_rate in [1e-2, 1e-3, 1e-4]:          # 3\n",
    "            for num_hidden in [128, 256, 512]:           # 3\n",
    "                for env in test_envs:                       # 4\n",
    "                    for use_target in [True, False]:        # 2\n",
    "                                                            # = 384 runs \n",
    "\n",
    "# for i in range(runs_per_setup):                      \n",
    "#     for memory_size in [10000]:                    # 3\n",
    "#         for learn_rate in [1e-2, 1e-3, 1e-4, 1e-5]:          # 4\n",
    "#             for num_hidden in [512]:           # 4\n",
    "#                 for env in test_envs:                       # 4\n",
    "#                     for use_target in [True, False]:        # 2\n",
    "#                                                             # = 384 runs \n",
    "                        if memory_size < 64:\n",
    "                            batch_size = memory_size\n",
    "                        else:\n",
    "                            batch_size = 64\n",
    "\n",
    "                        seed += 1\n",
    "                        new_env = gym.envs.make(env)\n",
    "                        memory = ReplayMemory(memory_size)\n",
    "\n",
    "                        random.seed(seed)\n",
    "                        torch.manual_seed(seed)\n",
    "                        new_env.seed(seed)\n",
    "\n",
    "                        try:\n",
    "                            # Continious obs space\n",
    "                            Q_net = QNetwork(num_hidden, observation_space=new_env.observation_space.low.shape[0], action_space=new_env.action_space.n).to(device)\n",
    "                            obs_space = new_env.observation_space.low.shape[0]\n",
    "                        except:\n",
    "                            # Discrete obs space\n",
    "                            Q_net = QNetwork(num_hidden, observation_space=new_env.observation_space.n, action_space=new_env.action_space.n).to(device)\n",
    "                            obs_space = new_env.observation_space.n\n",
    "\n",
    "                        policy = EpsilonGreedyPolicy(Q_net, 0.05)\n",
    "                        episode_scores = run_episodes(train, Q_net, policy, memory, new_env, num_episodes, batch_size, discount_factor, learn_rate, device, rendering_criterium=rendering_criterium, use_target_net=use_target)\n",
    "                        \n",
    "                        # # Save data\n",
    "                        results.append({\"env\":env, \"batch_size\":batch_size, \"use_target\":use_target, \"num_hidden\":num_hidden, \"learn_rate\":learn_rate, \"memory_size\":memory_size, \"discount_factor\":discount_factor, \"run\":i, \"scores\":episode_scores})\n",
    "                        df = pd.DataFrame(results)\n",
    "                        df.to_csv(\"results.csv\")"
   ]
  },
  {
   "cell_type": "code",
   "execution_count": null,
   "metadata": {},
   "outputs": [],
   "source": []
  }
 ],
 "metadata": {
  "celltoolbar": "Create Assignment",
  "kernelspec": {
   "display_name": "py37_pytorch",
   "language": "python",
   "name": "conda-env-py37_pytorch-py"
  },
  "language_info": {
   "codemirror_mode": {
    "name": "ipython",
    "version": 3
   },
   "file_extension": ".py",
   "mimetype": "text/x-python",
   "name": "python",
   "nbconvert_exporter": "python",
   "pygments_lexer": "ipython3",
   "version": "3.7.7"
  }
 },
 "nbformat": 4,
 "nbformat_minor": 2
}
