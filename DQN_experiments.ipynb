{
 "cells": [
  {
   "cell_type": "markdown",
   "metadata": {},
   "source": [
    "# Reinforcement Learning - Deep Q Network"
   ]
  },
  {
   "cell_type": "code",
   "execution_count": 1,
   "metadata": {
    "tags": []
   },
   "outputs": [],
   "source": [
    "import numpy as np\n",
    "import random\n",
    "import torch\n",
    "import copy\n",
    "from torch import nn\n",
    "import torch.nn.functional as F\n",
    "from torch import optim\n",
    "from tqdm import tqdm as _tqdm\n",
    "import os\n",
    "import pickle\n",
    "\n",
    "def tqdm(*args, **kwargs):\n",
    "    return _tqdm(*args, **kwargs, mininterval=1) \n",
    "\n",
    "%matplotlib inline\n",
    "import matplotlib.pyplot as plt\n",
    "import sys\n",
    "import time\n",
    "\n",
    "# !pip install gym==0.10.8\n",
    "# !pip install box2d\n",
    "\n",
    "import gym\n",
    "import pandas as pd\n",
    "\n",
    "\n",
    "assert sys.version_info[:3] >= (3, 6, 0), \"Make sure you have Python 3.6 installed!\""
   ]
  },
  {
   "cell_type": "code",
   "execution_count": 2,
   "metadata": {
    "nbgrader": {
     "grade": false,
     "grade_id": "cell-216429a5dccf8a0e",
     "locked": false,
     "schema_version": 1,
     "solution": true
    },
    "tags": []
   },
   "outputs": [],
   "source": [
    "class QNetwork(nn.Module):\n",
    "    \n",
    "    def __init__(self, num_hidden=128, observation_space=4, action_space=2):\n",
    "        nn.Module.__init__(self)\n",
    "        self.l1 = nn.Linear(observation_space, num_hidden)\n",
    "        self.l2 = nn.Linear(num_hidden, action_space)\n",
    "        self.relu = nn.ReLU()\n",
    "\n",
    "    def forward(self, x):\n",
    "        out = self.relu(self.l1(x))\n",
    "        out = self.l2(out)\n",
    "\n",
    "        return out"
   ]
  },
  {
   "cell_type": "code",
   "execution_count": 3,
   "metadata": {
    "nbgrader": {
     "grade": false,
     "grade_id": "cell-a3cc876e51eb157f",
     "locked": false,
     "schema_version": 1,
     "solution": true
    },
    "tags": []
   },
   "outputs": [],
   "source": [
    "class ReplayMemory:\n",
    "    \n",
    "    def __init__(self, capacity):\n",
    "        self.capacity = capacity\n",
    "        self.memory = []\n",
    "\n",
    "    def push(self, transition):\n",
    "        self.memory.append(transition)\n",
    "        if len(self.memory) > self.capacity:\n",
    "            self.memory.pop(0)\n",
    "\n",
    "    def sample(self, batch_size):\n",
    "        batch = random.sample(self.memory, batch_size)\n",
    "        return batch\n",
    "\n",
    "    def __len__(self):\n",
    "        return len(self.memory)"
   ]
  },
  {
   "cell_type": "code",
   "execution_count": 4,
   "metadata": {
    "nbgrader": {
     "grade": false,
     "grade_id": "cell-878ad3a637cfb51c",
     "locked": false,
     "schema_version": 1,
     "solution": true
    },
    "tags": []
   },
   "outputs": [],
   "source": [
    "class EpsilonGreedyPolicy(object):\n",
    "    \"\"\"\n",
    "    A simple epsilon greedy policy.\n",
    "    \"\"\"\n",
    "    def __init__(self, Q, epsilon):\n",
    "        self.Q = Q\n",
    "        self.epsilon = epsilon\n",
    "    \n",
    "    def sample_action(self, obs, device):\n",
    "        \"\"\"\n",
    "        This method takes a state as input and returns an action sampled from this policy.  \n",
    "\n",
    "        Args:\n",
    "            obs: current state\n",
    "\n",
    "        Returns:\n",
    "            An action (int).\n",
    "        \"\"\"\n",
    "        if random.random() < self.epsilon:\n",
    "            action = random.randint(0, 1)\n",
    "        else:\n",
    "            with torch.no_grad():\n",
    "                action = torch.argmax(self.Q(torch.Tensor(obs).to(device))).item()\n",
    "        return int(action)\n",
    "        \n",
    "    def set_epsilon(self, epsilon):\n",
    "        self.epsilon = epsilon"
   ]
  },
  {
   "cell_type": "code",
   "execution_count": 5,
   "metadata": {
    "nbgrader": {
     "grade": false,
     "grade_id": "cell-6c45485324b40081",
     "locked": false,
     "schema_version": 1,
     "solution": true
    },
    "tags": []
   },
   "outputs": [],
   "source": [
    "def get_epsilon(it, start=1, end=0.05, length=1000):\n",
    "    if it < length:\n",
    "        epsilon =  - it/(1000/0.95)\n",
    "    else:\n",
    "        epsilon = 0.05\n",
    "    return epsilon\n",
    "\n",
    "def smooth(x, N):\n",
    "    cumsum = np.cumsum(np.insert(x, 0, 0)) \n",
    "    return (cumsum[N:] - cumsum[:-N]) / float(N)\n",
    "\n",
    "def compute_q_vals(Q, states, actions, device):\n",
    "    \"\"\"\n",
    "    This method returns Q values for given state action pairs.\n",
    "    \n",
    "    Args:\n",
    "        Q: Q-net\n",
    "        states: a tensor of states. Shape: batch_size x obs_dim\n",
    "        actions: a tensor of actions. Shape: Shape: batch_size x 1\n",
    "\n",
    "    Returns:\n",
    "        A torch tensor filled with Q values. Shape: batch_size x 1.\n",
    "    \"\"\"\n",
    "    QValues = Q(states.to(device))[torch.arange(len(actions)).to(device), actions.squeeze().to(device)]\n",
    "    return QValues.unsqueeze(dim=1)\n",
    "\n",
    "def compute_targets(Q, rewards, next_states, dones, discount_factor, target_net, device):\n",
    "    \"\"\"\n",
    "    This method returns targets (values towards which Q-values should move).\n",
    "    \n",
    "    Args:\n",
    "        Q: Q-net\n",
    "        rewards: a tensor of actions. Shape: Shape: batch_size x 1\n",
    "        next_states: a tensor of states. Shape: batch_size x obs_dim\n",
    "        dones: a tensor of boolean done flags (indicates if next_state is terminal) Shape: batch_size x 1\n",
    "        discount_factor: discount\n",
    "    Returns:\n",
    "        A torch tensor filled with target values. Shape: batch_size x 1.\n",
    "    \"\"\"\n",
    "    maxQs = torch.max(target_net(next_states.to(device)), 1).values\n",
    "    if isinstance(dones, torch.BoolTensor):\n",
    "        targets = rewards.to(device) + discount_factor * maxQs.unsqueeze(dim=1).to(device) * (~dones).to(device)\n",
    "    else:\n",
    "        targets = rewards.to(device) + discount_factor * maxQs.unsqueeze(dim=1).to(device) * (1 - dones).to(device)\n",
    "    return targets\n",
    "    \n",
    "def train(Q, memory, optimizer, batch_size, discount_factor, target_net, device):\n",
    "    # don't learn without some decent experience\n",
    "    if len(memory) < batch_size:\n",
    "        return None\n",
    "\n",
    "    # random transition batch is taken from experience replay memory\n",
    "    transitions = memory.sample(batch_size)\n",
    "    \n",
    "    # transition is a list of 4-tuples, instead we want 4 vectors (as torch.Tensor's)\n",
    "    state, action, reward, next_state, done = zip(*transitions)\n",
    "    \n",
    "    # convert to PyTorch and define types\n",
    "    state = torch.tensor(state, dtype=torch.float)\n",
    "    action = torch.tensor(action, dtype=torch.int64)[:, None]  # Need 64 bit to use them as index\n",
    "    next_state = torch.tensor(next_state, dtype=torch.float)\n",
    "    reward = torch.tensor(reward, dtype=torch.float)[:, None]\n",
    "    done = torch.tensor(done, dtype=torch.uint8)[:, None]  # Boolean\n",
    "    \n",
    "    # compute the q value\n",
    "    q_val = compute_q_vals(Q, state, action, device)\n",
    "    with torch.no_grad():  # Don't compute gradient info for the target (semi-gradient)\n",
    "        target = compute_targets(Q, reward, next_state, done, discount_factor, target_net, device)\n",
    "    \n",
    "    # loss is measured from error between current and newly expected Q values\n",
    "    loss = F.smooth_l1_loss(q_val, target)\n",
    "\n",
    "    # backpropagation of loss to Neural Network (PyTorch magic)\n",
    "    optimizer.zero_grad()\n",
    "    loss.backward()\n",
    "    optimizer.step()\n",
    "    \n",
    "    return loss.item()  # Returns a Python scalar, and releases history (similar to .detach())"
   ]
  },
  {
   "cell_type": "code",
   "execution_count": 6,
   "metadata": {
    "nbgrader": {
     "grade": false,
     "grade_id": "cell-540a7d50ecc1d046",
     "locked": false,
     "schema_version": 1,
     "solution": true
    },
    "tags": []
   },
   "outputs": [],
   "source": [
    "\n",
    "def run_episodes(train, Q, policy, memory, env, num_episodes, batch_size, discount_factor, learn_rate, device, rendering_criterium=999999, use_target_net=True):\n",
    "    optimizer = optim.Adam(Q.parameters(), learn_rate)\n",
    "    if use_target_net:\n",
    "        TARGET_UPDATE = 10\n",
    "        target_net = copy.deepcopy(Q)\n",
    "        target_net.eval()\n",
    "    else:\n",
    "        target_net = Q\n",
    "    \n",
    "    global_steps = 0  # Count the steps (do not reset at episode start, to compute epsilon)\n",
    "    episode_scores = []  #\n",
    "    weights = []\n",
    "    rendering = False\n",
    "    for i in tqdm(range(num_episodes)):\n",
    "        state = env.reset()\n",
    "        \n",
    "        score = 0\n",
    "        while True:\n",
    "            policy.set_epsilon(get_epsilon(global_steps))\n",
    "            action = policy.sample_action(state, device)\n",
    "            state_next, reward, done, _ = env.step(action)                \n",
    "\n",
    "            loss = train(Q, memory, optimizer, batch_size, discount_factor, target_net, device)\n",
    "\n",
    "            global_steps += 1\n",
    "            score += reward\n",
    "\n",
    "            if rendering:\n",
    "                env.render()\n",
    "                time.sleep(0.05)\n",
    "\n",
    "            memory.push((state, action, reward, state_next, done))\n",
    "            state = state_next\n",
    "\n",
    "            if done:\n",
    "                # if i % 10 == 0:\n",
    "                    # print(\"{2} Episode {0} finished with a score o`f {1}\"\n",
    "                        #   .format(i, score, '\\033[99m'))\n",
    "\n",
    "                episode_scores.append(score)\n",
    "\n",
    "                # os.makedirs(\"weights\", exist_ok=True)\n",
    "                # torch.save(Q.state_dict(), 'Q_net_weights_episode_{i}.pth')\n",
    "\n",
    "                weights.append(copy.deepcopy(Q).state_dict().copy())\n",
    "\n",
    "                if score > rendering_criterium:\n",
    "                    rendering = True\n",
    "                else:\n",
    "                    rendering = False\n",
    "                break\n",
    "                \n",
    "            if use_target_net and (i % TARGET_UPDATE == 0):\n",
    "                target_net.load_state_dict(Q.state_dict())\n",
    "            \n",
    "        env.close()\n",
    "\n",
    "    return episode_scores, weights"
   ]
  },
  {
   "cell_type": "code",
   "execution_count": 7,
   "metadata": {
    "tags": []
   },
   "outputs": [],
   "source": [
    "########### Could try Gym Envs ###################\n",
    "\n",
    "# https://github.com/paulhendricks/gym-inventory\n",
    "# gym-inventory is a single agent domain featuring discrete state and action spaces that an AI agent might encounter in inventory control problems.\n",
    "\n",
    "# gym-maze: 2D maze environment\n",
    "# A simple 2D maze environment where an agent finds its way from the start position to the goal.\n",
    "# Learn more here: https://github.com/tuzzer/gym-maze/\n",
    "\n",
    "# Works with pixels, so not really suited for us\n",
    "# gym-minigrid: Minimalistic Gridworld Environment\n",
    "# A minimalistic gridworld environment. Seeks to minimize software dependencies, be easy to extend and deliver good performance for faster training.\n",
    "# Learn more here: https://github.com/maximecb/gym-minigrid\n",
    "\n",
    "# gym-anytrading: Environments for trading markets\n",
    "# AnyTrading is a collection of OpenAI Gym environments for reinforcement learning-based trading algorithms with a great focus on simplicity, flexibility, and comprehensiveness.\n",
    "# https://github.com/AminHP/gym-anytrading\n",
    "\n",
    "# Actually continious, could work when discretely controlled, requires little hack. Seems too simple tho.\n",
    "# new_env = gym.envs.make(\"CarRacing-v0\")\n",
    "\n",
    "############# NOTES #####################\n",
    "\n",
    "# w/ experience replay, w/o target network:\n",
    "# Converging:\n",
    "\n",
    "# CartPole-v1\n",
    "# Acrobot-v1\n",
    "# LunarLander-v2\n",
    "\n",
    "# not converging: \n",
    "# MountainCar-v0, tested up to 5k episodes < too sparse rewards? \n",
    "\n",
    "# w/ experience replay, w/ target network:\n",
    "# Converging:\n",
    "\n",
    "# CartPole-v1\n",
    "# Acrobot-v1\n",
    "# LunarLander-v2\n",
    "\n",
    "# not converging: \n",
    "# MountainCar-v0, tested up to 5k episodes < too sparse rewards? \n"
   ]
  },
  {
   "cell_type": "code",
   "execution_count": 8,
   "metadata": {},
   "outputs": [],
   "source": [
    "# Target net doesn't seem to have a clear positive effect\n",
    "# W/o experience replay (memory size =1), very bad results"
   ]
  },
  {
   "cell_type": "code",
   "execution_count": 9,
   "metadata": {
    "tags": []
   },
   "outputs": [
    {
     "name": "stderr",
     "output_type": "stream",
     "text": [
      "/opt/anaconda3/envs/rl1/lib/python3.7/site-packages/gym/envs/registration.py:14: PkgResourcesDeprecationWarning: Parameters to load are deprecated.  Call .resolve and .require separately.\n",
      "  result = entry_point.load(False)\n",
      "\r",
      "  0%|          | 0/1500 [00:00<?, ?it/s]"
     ]
    },
    {
     "name": "stdout",
     "output_type": "stream",
     "text": [
      "cpu\n"
     ]
    },
    {
     "name": "stderr",
     "output_type": "stream",
     "text": [
      "100%|██████████| 1500/1500 [02:32<00:00,  9.86it/s]\n",
      "  0%|          | 0/1500 [00:00<?, ?it/s]"
     ]
    },
    {
     "name": "stdout",
     "output_type": "stream",
     "text": [
      "\u001b[33mWARN: gym.spaces.Box autodetected dtype as <class 'numpy.float32'>. Please provide explicit dtype.\u001b[0m\n"
     ]
    },
    {
     "name": "stderr",
     "output_type": "stream",
     "text": [
      "100%|██████████| 1500/1500 [18:29<00:00,  1.35it/s]\n",
      "100%|██████████| 1500/1500 [14:07<00:00,  1.77it/s]\n",
      "  0%|          | 0/1500 [00:00<?, ?it/s]"
     ]
    },
    {
     "name": "stdout",
     "output_type": "stream",
     "text": [
      "\u001b[33mWARN: gym.spaces.Box autodetected dtype as <class 'numpy.float32'>. Please provide explicit dtype.\u001b[0m\n"
     ]
    },
    {
     "name": "stderr",
     "output_type": "stream",
     "text": [
      "100%|██████████| 1500/1500 [06:46<00:00,  3.69it/s]\n",
      "100%|██████████| 1500/1500 [02:23<00:00, 10.48it/s]\n",
      "  0%|          | 0/1500 [00:00<?, ?it/s]"
     ]
    },
    {
     "name": "stdout",
     "output_type": "stream",
     "text": [
      "\u001b[33mWARN: gym.spaces.Box autodetected dtype as <class 'numpy.float32'>. Please provide explicit dtype.\u001b[0m\n"
     ]
    },
    {
     "name": "stderr",
     "output_type": "stream",
     "text": [
      "100%|██████████| 1500/1500 [21:08<00:00,  1.30it/s]\n",
      "100%|██████████| 1500/1500 [17:36<00:00,  1.01s/it]\n",
      "  0%|          | 0/1500 [00:00<?, ?it/s]"
     ]
    },
    {
     "name": "stdout",
     "output_type": "stream",
     "text": [
      "\u001b[33mWARN: gym.spaces.Box autodetected dtype as <class 'numpy.float32'>. Please provide explicit dtype.\u001b[0m\n"
     ]
    },
    {
     "name": "stderr",
     "output_type": "stream",
     "text": [
      "100%|██████████| 1500/1500 [06:53<00:00,  3.66it/s]\n",
      "100%|██████████| 1500/1500 [02:30<00:00,  9.96it/s]\n",
      "  0%|          | 0/1500 [00:00<?, ?it/s]"
     ]
    },
    {
     "name": "stdout",
     "output_type": "stream",
     "text": [
      "\u001b[33mWARN: gym.spaces.Box autodetected dtype as <class 'numpy.float32'>. Please provide explicit dtype.\u001b[0m\n"
     ]
    },
    {
     "name": "stderr",
     "output_type": "stream",
     "text": [
      "100%|██████████| 1500/1500 [21:36<00:00,  1.17it/s]\n",
      "100%|██████████| 1500/1500 [17:35<00:00,  1.42it/s]\n",
      "  0%|          | 0/1500 [00:00<?, ?it/s]"
     ]
    },
    {
     "name": "stdout",
     "output_type": "stream",
     "text": [
      "\u001b[33mWARN: gym.spaces.Box autodetected dtype as <class 'numpy.float32'>. Please provide explicit dtype.\u001b[0m\n"
     ]
    },
    {
     "name": "stderr",
     "output_type": "stream",
     "text": [
      "100%|██████████| 1500/1500 [07:59<00:00,  2.82it/s]\n",
      "100%|██████████| 1500/1500 [04:00<00:00,  6.25it/s]\n",
      "  0%|          | 0/1500 [00:00<?, ?it/s]"
     ]
    },
    {
     "name": "stdout",
     "output_type": "stream",
     "text": [
      "\u001b[33mWARN: gym.spaces.Box autodetected dtype as <class 'numpy.float32'>. Please provide explicit dtype.\u001b[0m\n"
     ]
    },
    {
     "name": "stderr",
     "output_type": "stream",
     "text": [
      "100%|██████████| 1500/1500 [17:00<00:00,  1.47it/s]\n",
      "100%|██████████| 1500/1500 [27:19<00:00,  1.09s/it]\n",
      "  0%|          | 0/1500 [00:00<?, ?it/s]"
     ]
    },
    {
     "name": "stdout",
     "output_type": "stream",
     "text": [
      "\u001b[33mWARN: gym.spaces.Box autodetected dtype as <class 'numpy.float32'>. Please provide explicit dtype.\u001b[0m\n"
     ]
    },
    {
     "name": "stderr",
     "output_type": "stream",
     "text": [
      "100%|██████████| 1500/1500 [06:27<00:00,  3.87it/s]\n",
      "100%|██████████| 1500/1500 [04:14<00:00,  5.90it/s]\n",
      "  0%|          | 0/1500 [00:00<?, ?it/s]"
     ]
    },
    {
     "name": "stdout",
     "output_type": "stream",
     "text": [
      "\u001b[33mWARN: gym.spaces.Box autodetected dtype as <class 'numpy.float32'>. Please provide explicit dtype.\u001b[0m\n"
     ]
    },
    {
     "name": "stderr",
     "output_type": "stream",
     "text": [
      "100%|██████████| 1500/1500 [19:23<00:00,  1.27it/s]\n",
      "100%|██████████| 1500/1500 [32:54<00:00,  1.32s/it]\n",
      "  0%|          | 0/1500 [00:00<?, ?it/s]"
     ]
    },
    {
     "name": "stdout",
     "output_type": "stream",
     "text": [
      "\u001b[33mWARN: gym.spaces.Box autodetected dtype as <class 'numpy.float32'>. Please provide explicit dtype.\u001b[0m\n"
     ]
    },
    {
     "name": "stderr",
     "output_type": "stream",
     "text": [
      "100%|██████████| 1500/1500 [06:53<00:00,  3.63it/s]\n",
      "100%|██████████| 1500/1500 [04:41<00:00,  5.33it/s]\n",
      "  0%|          | 0/1500 [00:00<?, ?it/s]"
     ]
    },
    {
     "name": "stdout",
     "output_type": "stream",
     "text": [
      "\u001b[33mWARN: gym.spaces.Box autodetected dtype as <class 'numpy.float32'>. Please provide explicit dtype.\u001b[0m\n"
     ]
    },
    {
     "name": "stderr",
     "output_type": "stream",
     "text": [
      "100%|██████████| 1500/1500 [21:11<00:00,  1.28it/s]\n",
      "100%|██████████| 1500/1500 [32:26<00:00,  1.30s/it]\n",
      "  0%|          | 0/1500 [00:00<?, ?it/s]"
     ]
    },
    {
     "name": "stdout",
     "output_type": "stream",
     "text": [
      "\u001b[33mWARN: gym.spaces.Box autodetected dtype as <class 'numpy.float32'>. Please provide explicit dtype.\u001b[0m\n"
     ]
    },
    {
     "name": "stderr",
     "output_type": "stream",
     "text": [
      "100%|██████████| 1500/1500 [07:52<00:00,  3.18it/s]\n",
      "100%|██████████| 1500/1500 [02:41<00:00,  9.26it/s]\n",
      "  0%|          | 0/1500 [00:00<?, ?it/s]"
     ]
    },
    {
     "name": "stdout",
     "output_type": "stream",
     "text": [
      "\u001b[33mWARN: gym.spaces.Box autodetected dtype as <class 'numpy.float32'>. Please provide explicit dtype.\u001b[0m\n"
     ]
    },
    {
     "name": "stderr",
     "output_type": "stream",
     "text": [
      "100%|██████████| 1500/1500 [16:59<00:00,  1.47it/s]\n",
      "100%|██████████| 1500/1500 [16:21<00:00,  1.53it/s]\n",
      "  0%|          | 0/1500 [00:00<?, ?it/s]"
     ]
    },
    {
     "name": "stdout",
     "output_type": "stream",
     "text": [
      "\u001b[33mWARN: gym.spaces.Box autodetected dtype as <class 'numpy.float32'>. Please provide explicit dtype.\u001b[0m\n"
     ]
    },
    {
     "name": "stderr",
     "output_type": "stream",
     "text": [
      "100%|██████████| 1500/1500 [06:28<00:00,  3.86it/s]\n",
      "100%|██████████| 1500/1500 [04:21<00:00,  3.86it/s]\n",
      "  0%|          | 0/1500 [00:00<?, ?it/s]"
     ]
    },
    {
     "name": "stdout",
     "output_type": "stream",
     "text": [
      "\u001b[33mWARN: gym.spaces.Box autodetected dtype as <class 'numpy.float32'>. Please provide explicit dtype.\u001b[0m\n"
     ]
    },
    {
     "name": "stderr",
     "output_type": "stream",
     "text": [
      "100%|██████████| 1500/1500 [19:05<00:00,  1.30it/s]\n",
      "100%|██████████| 1500/1500 [26:39<00:00,  1.38s/it]\n",
      "  0%|          | 0/1500 [00:00<?, ?it/s]"
     ]
    },
    {
     "name": "stdout",
     "output_type": "stream",
     "text": [
      "\u001b[33mWARN: gym.spaces.Box autodetected dtype as <class 'numpy.float32'>. Please provide explicit dtype.\u001b[0m\n"
     ]
    },
    {
     "name": "stderr",
     "output_type": "stream",
     "text": [
      "100%|██████████| 1500/1500 [06:48<00:00,  3.76it/s]\n",
      "100%|██████████| 1500/1500 [05:54<00:00,  4.23it/s]\n",
      "  0%|          | 0/1500 [00:00<?, ?it/s]"
     ]
    },
    {
     "name": "stdout",
     "output_type": "stream",
     "text": [
      "\u001b[33mWARN: gym.spaces.Box autodetected dtype as <class 'numpy.float32'>. Please provide explicit dtype.\u001b[0m\n"
     ]
    },
    {
     "name": "stderr",
     "output_type": "stream",
     "text": [
      "100%|██████████| 1500/1500 [20:26<00:00,  1.62it/s]\n",
      "100%|██████████| 1500/1500 [31:57<00:00,  1.28s/it]\n",
      "  0%|          | 0/1500 [00:00<?, ?it/s]"
     ]
    },
    {
     "name": "stdout",
     "output_type": "stream",
     "text": [
      "\u001b[33mWARN: gym.spaces.Box autodetected dtype as <class 'numpy.float32'>. Please provide explicit dtype.\u001b[0m\n"
     ]
    },
    {
     "name": "stderr",
     "output_type": "stream",
     "text": [
      "100%|██████████| 1500/1500 [07:41<00:00,  3.25it/s]\n",
      "100%|██████████| 1500/1500 [02:02<00:00, 12.27it/s]\n",
      "  0%|          | 0/1500 [00:00<?, ?it/s]"
     ]
    },
    {
     "name": "stdout",
     "output_type": "stream",
     "text": [
      "\u001b[33mWARN: gym.spaces.Box autodetected dtype as <class 'numpy.float32'>. Please provide explicit dtype.\u001b[0m\n"
     ]
    },
    {
     "name": "stderr",
     "output_type": "stream",
     "text": [
      "100%|██████████| 1500/1500 [17:28<00:00,  1.37it/s]\n",
      "100%|██████████| 1500/1500 [12:49<00:00,  1.95it/s]\n",
      "  0%|          | 0/1500 [00:00<?, ?it/s]"
     ]
    },
    {
     "name": "stdout",
     "output_type": "stream",
     "text": [
      "\u001b[33mWARN: gym.spaces.Box autodetected dtype as <class 'numpy.float32'>. Please provide explicit dtype.\u001b[0m\n"
     ]
    },
    {
     "name": "stderr",
     "output_type": "stream",
     "text": [
      "100%|██████████| 1500/1500 [06:27<00:00,  3.95it/s]\n",
      "100%|██████████| 1500/1500 [01:50<00:00, 13.54it/s]\n",
      "  0%|          | 0/1500 [00:00<?, ?it/s]"
     ]
    },
    {
     "name": "stdout",
     "output_type": "stream",
     "text": [
      "\u001b[33mWARN: gym.spaces.Box autodetected dtype as <class 'numpy.float32'>. Please provide explicit dtype.\u001b[0m\n"
     ]
    },
    {
     "name": "stderr",
     "output_type": "stream",
     "text": [
      "100%|██████████| 1500/1500 [19:00<00:00,  1.32it/s]\n",
      "100%|██████████| 1500/1500 [12:54<00:00,  1.94it/s]\n",
      "  0%|          | 0/1500 [00:00<?, ?it/s]"
     ]
    },
    {
     "name": "stdout",
     "output_type": "stream",
     "text": [
      "\u001b[33mWARN: gym.spaces.Box autodetected dtype as <class 'numpy.float32'>. Please provide explicit dtype.\u001b[0m\n"
     ]
    },
    {
     "name": "stderr",
     "output_type": "stream",
     "text": [
      "100%|██████████| 1500/1500 [06:53<00:00,  3.63it/s]\n",
      "100%|██████████| 1500/1500 [02:47<00:00,  8.97it/s]\n",
      "  0%|          | 0/1500 [00:00<?, ?it/s]"
     ]
    },
    {
     "name": "stdout",
     "output_type": "stream",
     "text": [
      "\u001b[33mWARN: gym.spaces.Box autodetected dtype as <class 'numpy.float32'>. Please provide explicit dtype.\u001b[0m\n"
     ]
    },
    {
     "name": "stderr",
     "output_type": "stream",
     "text": [
      "100%|██████████| 1500/1500 [21:15<00:00,  1.18it/s]\n",
      "100%|██████████| 1500/1500 [18:01<00:00,  1.39it/s]\n",
      "  0%|          | 0/1500 [00:00<?, ?it/s]"
     ]
    },
    {
     "name": "stdout",
     "output_type": "stream",
     "text": [
      "\u001b[33mWARN: gym.spaces.Box autodetected dtype as <class 'numpy.float32'>. Please provide explicit dtype.\u001b[0m\n"
     ]
    },
    {
     "name": "stderr",
     "output_type": "stream",
     "text": [
      "100%|██████████| 1500/1500 [07:51<00:00,  3.18it/s]\n",
      "100%|██████████| 1500/1500 [03:27<00:00,  6.70it/s]\n",
      "  0%|          | 0/1500 [00:00<?, ?it/s]"
     ]
    },
    {
     "name": "stdout",
     "output_type": "stream",
     "text": [
      "\u001b[33mWARN: gym.spaces.Box autodetected dtype as <class 'numpy.float32'>. Please provide explicit dtype.\u001b[0m\n"
     ]
    },
    {
     "name": "stderr",
     "output_type": "stream",
     "text": [
      "100%|██████████| 1500/1500 [17:21<00:00,  1.09it/s]\n",
      "100%|██████████| 1500/1500 [29:07<00:00,  1.17s/it]\n",
      "  0%|          | 0/1500 [00:00<?, ?it/s]"
     ]
    },
    {
     "name": "stdout",
     "output_type": "stream",
     "text": [
      "\u001b[33mWARN: gym.spaces.Box autodetected dtype as <class 'numpy.float32'>. Please provide explicit dtype.\u001b[0m\n"
     ]
    },
    {
     "name": "stderr",
     "output_type": "stream",
     "text": [
      "100%|██████████| 1500/1500 [06:30<00:00,  3.84it/s]\n",
      "100%|██████████| 1500/1500 [03:37<00:00,  6.90it/s]\n",
      "  0%|          | 0/1500 [00:00<?, ?it/s]"
     ]
    },
    {
     "name": "stdout",
     "output_type": "stream",
     "text": [
      "\u001b[33mWARN: gym.spaces.Box autodetected dtype as <class 'numpy.float32'>. Please provide explicit dtype.\u001b[0m\n"
     ]
    },
    {
     "name": "stderr",
     "output_type": "stream",
     "text": [
      "100%|██████████| 1500/1500 [18:59<00:00,  1.32it/s]\n",
      "100%|██████████| 1500/1500 [29:55<00:00,  2.50s/it]\n",
      "  0%|          | 0/1500 [00:00<?, ?it/s]"
     ]
    },
    {
     "name": "stdout",
     "output_type": "stream",
     "text": [
      "\u001b[33mWARN: gym.spaces.Box autodetected dtype as <class 'numpy.float32'>. Please provide explicit dtype.\u001b[0m\n"
     ]
    },
    {
     "name": "stderr",
     "output_type": "stream",
     "text": [
      "100%|██████████| 1500/1500 [06:51<00:00,  3.66it/s]\n",
      "100%|██████████| 1500/1500 [04:22<00:00,  5.71it/s]\n",
      "  0%|          | 0/1500 [00:00<?, ?it/s]"
     ]
    },
    {
     "name": "stdout",
     "output_type": "stream",
     "text": [
      "\u001b[33mWARN: gym.spaces.Box autodetected dtype as <class 'numpy.float32'>. Please provide explicit dtype.\u001b[0m\n"
     ]
    },
    {
     "name": "stderr",
     "output_type": "stream",
     "text": [
      "100%|██████████| 1500/1500 [20:37<00:00,  1.21it/s]\n",
      "100%|██████████| 1500/1500 [38:14<00:00,  1.53s/it]\n",
      "  0%|          | 0/1500 [00:00<?, ?it/s]"
     ]
    },
    {
     "name": "stdout",
     "output_type": "stream",
     "text": [
      "\u001b[33mWARN: gym.spaces.Box autodetected dtype as <class 'numpy.float32'>. Please provide explicit dtype.\u001b[0m\n"
     ]
    },
    {
     "name": "stderr",
     "output_type": "stream",
     "text": [
      "100%|██████████| 1500/1500 [07:56<00:00,  3.15it/s]\n",
      "100%|██████████| 1500/1500 [03:39<00:00,  5.03it/s]\n",
      "  0%|          | 0/1500 [00:00<?, ?it/s]"
     ]
    },
    {
     "name": "stdout",
     "output_type": "stream",
     "text": [
      "\u001b[33mWARN: gym.spaces.Box autodetected dtype as <class 'numpy.float32'>. Please provide explicit dtype.\u001b[0m\n"
     ]
    },
    {
     "name": "stderr",
     "output_type": "stream",
     "text": [
      "100%|██████████| 1500/1500 [17:01<00:00,  1.48it/s]\n",
      "100%|██████████| 1500/1500 [13:14<00:00,  1.72s/it]\n",
      "  0%|          | 0/1500 [00:00<?, ?it/s]"
     ]
    },
    {
     "name": "stdout",
     "output_type": "stream",
     "text": [
      "\u001b[33mWARN: gym.spaces.Box autodetected dtype as <class 'numpy.float32'>. Please provide explicit dtype.\u001b[0m\n"
     ]
    },
    {
     "name": "stderr",
     "output_type": "stream",
     "text": [
      "100%|██████████| 1500/1500 [06:28<00:00,  3.94it/s]\n",
      "100%|██████████| 1500/1500 [05:10<00:00,  4.83it/s]\n",
      "  0%|          | 0/1500 [00:00<?, ?it/s]"
     ]
    },
    {
     "name": "stdout",
     "output_type": "stream",
     "text": [
      "\u001b[33mWARN: gym.spaces.Box autodetected dtype as <class 'numpy.float32'>. Please provide explicit dtype.\u001b[0m\n"
     ]
    },
    {
     "name": "stderr",
     "output_type": "stream",
     "text": [
      "100%|██████████| 1500/1500 [19:02<00:00,  1.31it/s]\n",
      "100%|██████████| 1500/1500 [33:20<00:00,  2.39s/it]\n",
      "  0%|          | 0/1500 [00:00<?, ?it/s]"
     ]
    },
    {
     "name": "stdout",
     "output_type": "stream",
     "text": [
      "\u001b[33mWARN: gym.spaces.Box autodetected dtype as <class 'numpy.float32'>. Please provide explicit dtype.\u001b[0m\n"
     ]
    },
    {
     "name": "stderr",
     "output_type": "stream",
     "text": [
      "100%|██████████| 1500/1500 [06:57<00:00,  3.59it/s]\n",
      "100%|██████████| 1500/1500 [05:22<00:00,  4.65it/s]\n",
      "  0%|          | 0/1500 [00:00<?, ?it/s]"
     ]
    },
    {
     "name": "stdout",
     "output_type": "stream",
     "text": [
      "\u001b[33mWARN: gym.spaces.Box autodetected dtype as <class 'numpy.float32'>. Please provide explicit dtype.\u001b[0m\n"
     ]
    },
    {
     "name": "stderr",
     "output_type": "stream",
     "text": [
      "100%|██████████| 1500/1500 [19:01<00:00,  1.31it/s]\n",
      "100%|██████████| 1500/1500 [28:55<00:00,  2.33s/it]\n",
      "  0%|          | 0/1500 [00:00<?, ?it/s]"
     ]
    },
    {
     "name": "stdout",
     "output_type": "stream",
     "text": [
      "\u001b[33mWARN: gym.spaces.Box autodetected dtype as <class 'numpy.float32'>. Please provide explicit dtype.\u001b[0m\n"
     ]
    },
    {
     "name": "stderr",
     "output_type": "stream",
     "text": [
      "100%|██████████| 1500/1500 [07:55<00:00,  3.15it/s]\n",
      "100%|██████████| 1500/1500 [01:54<00:00, 13.10it/s]\n",
      "  0%|          | 0/1500 [00:00<?, ?it/s]"
     ]
    },
    {
     "name": "stdout",
     "output_type": "stream",
     "text": [
      "\u001b[33mWARN: gym.spaces.Box autodetected dtype as <class 'numpy.float32'>. Please provide explicit dtype.\u001b[0m\n"
     ]
    },
    {
     "name": "stderr",
     "output_type": "stream",
     "text": [
      "100%|██████████| 1500/1500 [17:10<00:00,  1.36it/s]\n",
      "100%|██████████| 1500/1500 [15:26<00:00,  1.62it/s]\n",
      "  0%|          | 0/1500 [00:00<?, ?it/s]"
     ]
    },
    {
     "name": "stdout",
     "output_type": "stream",
     "text": [
      "\u001b[33mWARN: gym.spaces.Box autodetected dtype as <class 'numpy.float32'>. Please provide explicit dtype.\u001b[0m\n"
     ]
    },
    {
     "name": "stderr",
     "output_type": "stream",
     "text": [
      "100%|██████████| 1500/1500 [06:34<00:00,  3.80it/s]\n",
      "100%|██████████| 1500/1500 [02:18<00:00, 10.82it/s]\n",
      "  0%|          | 0/1500 [00:00<?, ?it/s]"
     ]
    },
    {
     "name": "stdout",
     "output_type": "stream",
     "text": [
      "\u001b[33mWARN: gym.spaces.Box autodetected dtype as <class 'numpy.float32'>. Please provide explicit dtype.\u001b[0m\n"
     ]
    },
    {
     "name": "stderr",
     "output_type": "stream",
     "text": [
      "100%|██████████| 1500/1500 [19:36<00:00,  1.27it/s]\n",
      "100%|██████████| 1500/1500 [19:47<00:00,  1.26it/s]\n",
      "  0%|          | 0/1500 [00:00<?, ?it/s]"
     ]
    },
    {
     "name": "stdout",
     "output_type": "stream",
     "text": [
      "\u001b[33mWARN: gym.spaces.Box autodetected dtype as <class 'numpy.float32'>. Please provide explicit dtype.\u001b[0m\n"
     ]
    },
    {
     "name": "stderr",
     "output_type": "stream",
     "text": [
      "100%|██████████| 1500/1500 [06:59<00:00,  3.62it/s]\n",
      "100%|██████████| 1500/1500 [02:25<00:00, 10.29it/s]\n",
      "  0%|          | 0/1500 [00:00<?, ?it/s]"
     ]
    },
    {
     "name": "stdout",
     "output_type": "stream",
     "text": [
      "\u001b[33mWARN: gym.spaces.Box autodetected dtype as <class 'numpy.float32'>. Please provide explicit dtype.\u001b[0m\n"
     ]
    },
    {
     "name": "stderr",
     "output_type": "stream",
     "text": [
      "100%|██████████| 1500/1500 [21:29<00:00,  1.16it/s]\n",
      "100%|██████████| 1500/1500 [19:14<00:00,  1.30it/s]\n",
      "  0%|          | 0/1500 [00:00<?, ?it/s]"
     ]
    },
    {
     "name": "stdout",
     "output_type": "stream",
     "text": [
      "\u001b[33mWARN: gym.spaces.Box autodetected dtype as <class 'numpy.float32'>. Please provide explicit dtype.\u001b[0m\n"
     ]
    },
    {
     "name": "stderr",
     "output_type": "stream",
     "text": [
      "100%|██████████| 1500/1500 [07:53<00:00,  3.17it/s]\n",
      "100%|██████████| 1500/1500 [04:11<00:00,  5.96it/s]\n",
      "  0%|          | 0/1500 [00:00<?, ?it/s]"
     ]
    },
    {
     "name": "stdout",
     "output_type": "stream",
     "text": [
      "\u001b[33mWARN: gym.spaces.Box autodetected dtype as <class 'numpy.float32'>. Please provide explicit dtype.\u001b[0m\n"
     ]
    },
    {
     "name": "stderr",
     "output_type": "stream",
     "text": [
      "100%|██████████| 1500/1500 [17:17<00:00,  1.45it/s]\n",
      "100%|██████████| 1500/1500 [28:18<00:00,  1.13s/it]\n",
      "  0%|          | 0/1500 [00:00<?, ?it/s]"
     ]
    },
    {
     "name": "stdout",
     "output_type": "stream",
     "text": [
      "\u001b[33mWARN: gym.spaces.Box autodetected dtype as <class 'numpy.float32'>. Please provide explicit dtype.\u001b[0m\n"
     ]
    },
    {
     "name": "stderr",
     "output_type": "stream",
     "text": [
      "100%|██████████| 1500/1500 [06:30<00:00,  3.84it/s]\n",
      "100%|██████████| 1500/1500 [04:01<00:00,  6.21it/s]\n",
      "  0%|          | 0/1500 [00:00<?, ?it/s]"
     ]
    },
    {
     "name": "stdout",
     "output_type": "stream",
     "text": [
      "\u001b[33mWARN: gym.spaces.Box autodetected dtype as <class 'numpy.float32'>. Please provide explicit dtype.\u001b[0m\n"
     ]
    },
    {
     "name": "stderr",
     "output_type": "stream",
     "text": [
      "100%|██████████| 1500/1500 [18:19<00:00,  1.36it/s]\n",
      "100%|██████████| 1500/1500 [33:39<00:00,  2.06s/it]\n",
      "  0%|          | 0/1500 [00:00<?, ?it/s]"
     ]
    },
    {
     "name": "stdout",
     "output_type": "stream",
     "text": [
      "\u001b[33mWARN: gym.spaces.Box autodetected dtype as <class 'numpy.float32'>. Please provide explicit dtype.\u001b[0m\n"
     ]
    },
    {
     "name": "stderr",
     "output_type": "stream",
     "text": [
      "100%|██████████| 1500/1500 [06:57<00:00,  3.58it/s]\n",
      "100%|██████████| 1500/1500 [04:34<00:00,  5.47it/s]\n",
      "  0%|          | 0/1500 [00:00<?, ?it/s]"
     ]
    },
    {
     "name": "stdout",
     "output_type": "stream",
     "text": [
      "\u001b[33mWARN: gym.spaces.Box autodetected dtype as <class 'numpy.float32'>. Please provide explicit dtype.\u001b[0m\n"
     ]
    },
    {
     "name": "stderr",
     "output_type": "stream",
     "text": [
      "100%|██████████| 1500/1500 [21:24<00:00,  1.17it/s]\n",
      "100%|██████████| 1500/1500 [33:34<00:00,  1.03s/it]\n",
      "  0%|          | 0/1500 [00:00<?, ?it/s]"
     ]
    },
    {
     "name": "stdout",
     "output_type": "stream",
     "text": [
      "\u001b[33mWARN: gym.spaces.Box autodetected dtype as <class 'numpy.float32'>. Please provide explicit dtype.\u001b[0m\n"
     ]
    },
    {
     "name": "stderr",
     "output_type": "stream",
     "text": [
      "100%|██████████| 1500/1500 [07:50<00:00,  3.19it/s]\n",
      "100%|██████████| 1500/1500 [03:57<00:00,  6.31it/s]\n",
      "  0%|          | 0/1500 [00:00<?, ?it/s]"
     ]
    },
    {
     "name": "stdout",
     "output_type": "stream",
     "text": [
      "\u001b[33mWARN: gym.spaces.Box autodetected dtype as <class 'numpy.float32'>. Please provide explicit dtype.\u001b[0m\n"
     ]
    },
    {
     "name": "stderr",
     "output_type": "stream",
     "text": [
      "100%|██████████| 1500/1500 [16:52<00:00,  1.48it/s]\n",
      "100%|██████████| 1500/1500 [23:04<00:00,  1.35s/it]\n",
      "  0%|          | 0/1500 [00:00<?, ?it/s]"
     ]
    },
    {
     "name": "stdout",
     "output_type": "stream",
     "text": [
      "\u001b[33mWARN: gym.spaces.Box autodetected dtype as <class 'numpy.float32'>. Please provide explicit dtype.\u001b[0m\n"
     ]
    },
    {
     "name": "stderr",
     "output_type": "stream",
     "text": [
      "100%|██████████| 1500/1500 [06:27<00:00,  3.87it/s]\n",
      "100%|██████████| 1500/1500 [04:11<00:00,  5.96it/s]\n",
      "  0%|          | 0/1500 [00:00<?, ?it/s]"
     ]
    },
    {
     "name": "stdout",
     "output_type": "stream",
     "text": [
      "\u001b[33mWARN: gym.spaces.Box autodetected dtype as <class 'numpy.float32'>. Please provide explicit dtype.\u001b[0m\n"
     ]
    },
    {
     "name": "stderr",
     "output_type": "stream",
     "text": [
      "100%|██████████| 1500/1500 [19:23<00:00,  1.29it/s]\n",
      "100%|██████████| 1500/1500 [30:28<00:00,  2.39s/it]\n",
      "  0%|          | 0/1500 [00:00<?, ?it/s]"
     ]
    },
    {
     "name": "stdout",
     "output_type": "stream",
     "text": [
      "\u001b[33mWARN: gym.spaces.Box autodetected dtype as <class 'numpy.float32'>. Please provide explicit dtype.\u001b[0m\n"
     ]
    },
    {
     "name": "stderr",
     "output_type": "stream",
     "text": [
      "100%|██████████| 1500/1500 [06:47<00:00,  3.68it/s]\n",
      "100%|██████████| 1500/1500 [04:52<00:00,  5.12it/s]\n",
      "  0%|          | 0/1500 [00:00<?, ?it/s]"
     ]
    },
    {
     "name": "stdout",
     "output_type": "stream",
     "text": [
      "\u001b[33mWARN: gym.spaces.Box autodetected dtype as <class 'numpy.float32'>. Please provide explicit dtype.\u001b[0m\n"
     ]
    },
    {
     "name": "stderr",
     "output_type": "stream",
     "text": [
      "100%|██████████| 1500/1500 [20:10<00:00,  1.24it/s]\n",
      "100%|██████████| 1500/1500 [33:10<00:00,  1.33s/it]\n",
      "  0%|          | 0/1500 [00:00<?, ?it/s]"
     ]
    },
    {
     "name": "stdout",
     "output_type": "stream",
     "text": [
      "\u001b[33mWARN: gym.spaces.Box autodetected dtype as <class 'numpy.float32'>. Please provide explicit dtype.\u001b[0m\n"
     ]
    },
    {
     "name": "stderr",
     "output_type": "stream",
     "text": [
      "100%|██████████| 1500/1500 [07:51<00:00,  3.25it/s]\n",
      "100%|██████████| 1500/1500 [01:56<00:00, 12.89it/s]\n",
      "  0%|          | 0/1500 [00:00<?, ?it/s]"
     ]
    },
    {
     "name": "stdout",
     "output_type": "stream",
     "text": [
      "\u001b[33mWARN: gym.spaces.Box autodetected dtype as <class 'numpy.float32'>. Please provide explicit dtype.\u001b[0m\n"
     ]
    },
    {
     "name": "stderr",
     "output_type": "stream",
     "text": [
      "100%|██████████| 1500/1500 [16:58<00:00,  1.46it/s]\n",
      "100%|██████████| 1500/1500 [10:38<00:00,  2.35it/s]\n",
      "  0%|          | 0/1500 [00:00<?, ?it/s]"
     ]
    },
    {
     "name": "stdout",
     "output_type": "stream",
     "text": [
      "\u001b[33mWARN: gym.spaces.Box autodetected dtype as <class 'numpy.float32'>. Please provide explicit dtype.\u001b[0m\n"
     ]
    },
    {
     "name": "stderr",
     "output_type": "stream",
     "text": [
      "100%|██████████| 1500/1500 [06:24<00:00,  3.90it/s]\n",
      "100%|██████████| 1500/1500 [01:59<00:00, 12.56it/s]\n",
      "  0%|          | 0/1500 [00:00<?, ?it/s]"
     ]
    },
    {
     "name": "stdout",
     "output_type": "stream",
     "text": [
      "\u001b[33mWARN: gym.spaces.Box autodetected dtype as <class 'numpy.float32'>. Please provide explicit dtype.\u001b[0m\n"
     ]
    },
    {
     "name": "stderr",
     "output_type": "stream",
     "text": [
      "100%|██████████| 1500/1500 [19:43<00:00,  1.12it/s]\n",
      "100%|██████████| 1500/1500 [14:25<00:00,  1.05it/s]\n",
      "  0%|          | 0/1500 [00:00<?, ?it/s]"
     ]
    },
    {
     "name": "stdout",
     "output_type": "stream",
     "text": [
      "\u001b[33mWARN: gym.spaces.Box autodetected dtype as <class 'numpy.float32'>. Please provide explicit dtype.\u001b[0m\n"
     ]
    },
    {
     "name": "stderr",
     "output_type": "stream",
     "text": [
      "100%|██████████| 1500/1500 [06:56<00:00,  3.65it/s]\n",
      "100%|██████████| 1500/1500 [02:07<00:00, 11.76it/s]\n",
      "  0%|          | 0/1500 [00:00<?, ?it/s]"
     ]
    },
    {
     "name": "stdout",
     "output_type": "stream",
     "text": [
      "\u001b[33mWARN: gym.spaces.Box autodetected dtype as <class 'numpy.float32'>. Please provide explicit dtype.\u001b[0m\n"
     ]
    },
    {
     "name": "stderr",
     "output_type": "stream",
     "text": [
      "100%|██████████| 1500/1500 [21:50<00:00,  1.29it/s]\n",
      "100%|██████████| 1500/1500 [20:11<00:00,  1.24it/s]\n",
      "  0%|          | 0/1500 [00:00<?, ?it/s]"
     ]
    },
    {
     "name": "stdout",
     "output_type": "stream",
     "text": [
      "\u001b[33mWARN: gym.spaces.Box autodetected dtype as <class 'numpy.float32'>. Please provide explicit dtype.\u001b[0m\n"
     ]
    },
    {
     "name": "stderr",
     "output_type": "stream",
     "text": [
      "100%|██████████| 1500/1500 [08:03<00:00,  3.16it/s]\n",
      "100%|██████████| 1500/1500 [03:43<00:00,  6.70it/s]\n",
      "  0%|          | 0/1500 [00:00<?, ?it/s]"
     ]
    },
    {
     "name": "stdout",
     "output_type": "stream",
     "text": [
      "\u001b[33mWARN: gym.spaces.Box autodetected dtype as <class 'numpy.float32'>. Please provide explicit dtype.\u001b[0m\n"
     ]
    },
    {
     "name": "stderr",
     "output_type": "stream",
     "text": [
      "100%|██████████| 1500/1500 [16:41<00:00,  1.54it/s]\n",
      "100%|██████████| 1500/1500 [27:51<00:00,  1.50s/it]\n",
      "  0%|          | 0/1500 [00:00<?, ?it/s]"
     ]
    },
    {
     "name": "stdout",
     "output_type": "stream",
     "text": [
      "\u001b[33mWARN: gym.spaces.Box autodetected dtype as <class 'numpy.float32'>. Please provide explicit dtype.\u001b[0m\n"
     ]
    },
    {
     "name": "stderr",
     "output_type": "stream",
     "text": [
      "100%|██████████| 1500/1500 [06:35<00:00,  3.79it/s]\n",
      "100%|██████████| 1500/1500 [04:14<00:00,  5.90it/s]\n",
      "  0%|          | 0/1500 [00:00<?, ?it/s]"
     ]
    },
    {
     "name": "stdout",
     "output_type": "stream",
     "text": [
      "\u001b[33mWARN: gym.spaces.Box autodetected dtype as <class 'numpy.float32'>. Please provide explicit dtype.\u001b[0m\n"
     ]
    },
    {
     "name": "stderr",
     "output_type": "stream",
     "text": [
      "100%|██████████| 1500/1500 [19:08<00:00,  1.31it/s]\n",
      "100%|██████████| 1500/1500 [33:28<00:00,  2.42s/it]\n",
      "  0%|          | 0/1500 [00:00<?, ?it/s]"
     ]
    },
    {
     "name": "stdout",
     "output_type": "stream",
     "text": [
      "\u001b[33mWARN: gym.spaces.Box autodetected dtype as <class 'numpy.float32'>. Please provide explicit dtype.\u001b[0m\n"
     ]
    },
    {
     "name": "stderr",
     "output_type": "stream",
     "text": [
      "100%|██████████| 1500/1500 [06:56<00:00,  3.61it/s]\n",
      "100%|██████████| 1500/1500 [04:41<00:00,  5.33it/s]\n",
      "  0%|          | 0/1500 [00:00<?, ?it/s]"
     ]
    },
    {
     "name": "stdout",
     "output_type": "stream",
     "text": [
      "\u001b[33mWARN: gym.spaces.Box autodetected dtype as <class 'numpy.float32'>. Please provide explicit dtype.\u001b[0m\n"
     ]
    },
    {
     "name": "stderr",
     "output_type": "stream",
     "text": [
      "100%|██████████| 1500/1500 [21:33<00:00,  1.16it/s]\n",
      " 45%|████▌     | 681/1500 [16:12<2:09:27,  9.48s/it]"
     ]
    },
    {
     "ename": "KeyboardInterrupt",
     "evalue": "",
     "output_type": "error",
     "traceback": [
      "\u001b[0;31m---------------------------------------------------------------------------\u001b[0m",
      "\u001b[0;31mKeyboardInterrupt\u001b[0m                         Traceback (most recent call last)",
      "\u001b[0;32m<ipython-input-9-507449d5fce6>\u001b[0m in \u001b[0;36m<module>\u001b[0;34m\u001b[0m\n\u001b[1;32m     59\u001b[0m \u001b[0;34m\u001b[0m\u001b[0m\n\u001b[1;32m     60\u001b[0m                         \u001b[0mpolicy\u001b[0m \u001b[0;34m=\u001b[0m \u001b[0mEpsilonGreedyPolicy\u001b[0m\u001b[0;34m(\u001b[0m\u001b[0mQ_net\u001b[0m\u001b[0;34m,\u001b[0m \u001b[0;36m0.05\u001b[0m\u001b[0;34m)\u001b[0m\u001b[0;34m\u001b[0m\u001b[0;34m\u001b[0m\u001b[0m\n\u001b[0;32m---> 61\u001b[0;31m                         \u001b[0mepisode_scores\u001b[0m\u001b[0;34m,\u001b[0m \u001b[0mepisode_weights\u001b[0m \u001b[0;34m=\u001b[0m \u001b[0mrun_episodes\u001b[0m\u001b[0;34m(\u001b[0m\u001b[0mtrain\u001b[0m\u001b[0;34m,\u001b[0m \u001b[0mQ_net\u001b[0m\u001b[0;34m,\u001b[0m \u001b[0mpolicy\u001b[0m\u001b[0;34m,\u001b[0m \u001b[0mmemory\u001b[0m\u001b[0;34m,\u001b[0m \u001b[0mnew_env\u001b[0m\u001b[0;34m,\u001b[0m \u001b[0mnum_episodes\u001b[0m\u001b[0;34m,\u001b[0m \u001b[0mbatch_size\u001b[0m\u001b[0;34m,\u001b[0m \u001b[0mdiscount_factor\u001b[0m\u001b[0;34m,\u001b[0m \u001b[0mlearn_rate\u001b[0m\u001b[0;34m,\u001b[0m \u001b[0mdevice\u001b[0m\u001b[0;34m,\u001b[0m \u001b[0muse_target_net\u001b[0m\u001b[0;34m=\u001b[0m\u001b[0muse_target\u001b[0m\u001b[0;34m)\u001b[0m\u001b[0;34m\u001b[0m\u001b[0;34m\u001b[0m\u001b[0m\n\u001b[0m\u001b[1;32m     62\u001b[0m \u001b[0;34m\u001b[0m\u001b[0m\n\u001b[1;32m     63\u001b[0m                         \u001b[0;31m# # L2 norm calculation\u001b[0m\u001b[0;34m\u001b[0m\u001b[0;34m\u001b[0m\u001b[0;34m\u001b[0m\u001b[0m\n",
      "\u001b[0;32m<ipython-input-6-30076c7bc2f5>\u001b[0m in \u001b[0;36mrun_episodes\u001b[0;34m(train, Q, policy, memory, env, num_episodes, batch_size, discount_factor, learn_rate, device, rendering_criterium, use_target_net)\u001b[0m\n\u001b[1;32m     21\u001b[0m             \u001b[0mstate_next\u001b[0m\u001b[0;34m,\u001b[0m \u001b[0mreward\u001b[0m\u001b[0;34m,\u001b[0m \u001b[0mdone\u001b[0m\u001b[0;34m,\u001b[0m \u001b[0m_\u001b[0m \u001b[0;34m=\u001b[0m \u001b[0menv\u001b[0m\u001b[0;34m.\u001b[0m\u001b[0mstep\u001b[0m\u001b[0;34m(\u001b[0m\u001b[0maction\u001b[0m\u001b[0;34m)\u001b[0m\u001b[0;34m\u001b[0m\u001b[0;34m\u001b[0m\u001b[0m\n\u001b[1;32m     22\u001b[0m \u001b[0;34m\u001b[0m\u001b[0m\n\u001b[0;32m---> 23\u001b[0;31m             \u001b[0mloss\u001b[0m \u001b[0;34m=\u001b[0m \u001b[0mtrain\u001b[0m\u001b[0;34m(\u001b[0m\u001b[0mQ\u001b[0m\u001b[0;34m,\u001b[0m \u001b[0mmemory\u001b[0m\u001b[0;34m,\u001b[0m \u001b[0moptimizer\u001b[0m\u001b[0;34m,\u001b[0m \u001b[0mbatch_size\u001b[0m\u001b[0;34m,\u001b[0m \u001b[0mdiscount_factor\u001b[0m\u001b[0;34m,\u001b[0m \u001b[0mtarget_net\u001b[0m\u001b[0;34m,\u001b[0m \u001b[0mdevice\u001b[0m\u001b[0;34m)\u001b[0m\u001b[0;34m\u001b[0m\u001b[0;34m\u001b[0m\u001b[0m\n\u001b[0m\u001b[1;32m     24\u001b[0m \u001b[0;34m\u001b[0m\u001b[0m\n\u001b[1;32m     25\u001b[0m             \u001b[0mglobal_steps\u001b[0m \u001b[0;34m+=\u001b[0m \u001b[0;36m1\u001b[0m\u001b[0;34m\u001b[0m\u001b[0;34m\u001b[0m\u001b[0m\n",
      "\u001b[0;32m<ipython-input-5-c308b15f29ce>\u001b[0m in \u001b[0;36mtrain\u001b[0;34m(Q, memory, optimizer, batch_size, discount_factor, target_net, device)\u001b[0m\n\u001b[1;32m     74\u001b[0m     \u001b[0moptimizer\u001b[0m\u001b[0;34m.\u001b[0m\u001b[0mzero_grad\u001b[0m\u001b[0;34m(\u001b[0m\u001b[0;34m)\u001b[0m\u001b[0;34m\u001b[0m\u001b[0;34m\u001b[0m\u001b[0m\n\u001b[1;32m     75\u001b[0m     \u001b[0mloss\u001b[0m\u001b[0;34m.\u001b[0m\u001b[0mbackward\u001b[0m\u001b[0;34m(\u001b[0m\u001b[0;34m)\u001b[0m\u001b[0;34m\u001b[0m\u001b[0;34m\u001b[0m\u001b[0m\n\u001b[0;32m---> 76\u001b[0;31m     \u001b[0moptimizer\u001b[0m\u001b[0;34m.\u001b[0m\u001b[0mstep\u001b[0m\u001b[0;34m(\u001b[0m\u001b[0;34m)\u001b[0m\u001b[0;34m\u001b[0m\u001b[0;34m\u001b[0m\u001b[0m\n\u001b[0m\u001b[1;32m     77\u001b[0m \u001b[0;34m\u001b[0m\u001b[0m\n\u001b[1;32m     78\u001b[0m     \u001b[0;32mreturn\u001b[0m \u001b[0mloss\u001b[0m\u001b[0;34m.\u001b[0m\u001b[0mitem\u001b[0m\u001b[0;34m(\u001b[0m\u001b[0;34m)\u001b[0m  \u001b[0;31m# Returns a Python scalar, and releases history (similar to .detach())\u001b[0m\u001b[0;34m\u001b[0m\u001b[0;34m\u001b[0m\u001b[0m\n",
      "\u001b[0;32m/opt/anaconda3/envs/rl1/lib/python3.7/site-packages/torch/autograd/grad_mode.py\u001b[0m in \u001b[0;36mdecorate_context\u001b[0;34m(*args, **kwargs)\u001b[0m\n\u001b[1;32m     13\u001b[0m         \u001b[0;32mdef\u001b[0m \u001b[0mdecorate_context\u001b[0m\u001b[0;34m(\u001b[0m\u001b[0;34m*\u001b[0m\u001b[0margs\u001b[0m\u001b[0;34m,\u001b[0m \u001b[0;34m**\u001b[0m\u001b[0mkwargs\u001b[0m\u001b[0;34m)\u001b[0m\u001b[0;34m:\u001b[0m\u001b[0;34m\u001b[0m\u001b[0;34m\u001b[0m\u001b[0m\n\u001b[1;32m     14\u001b[0m             \u001b[0;32mwith\u001b[0m \u001b[0mself\u001b[0m\u001b[0;34m:\u001b[0m\u001b[0;34m\u001b[0m\u001b[0;34m\u001b[0m\u001b[0m\n\u001b[0;32m---> 15\u001b[0;31m                 \u001b[0;32mreturn\u001b[0m \u001b[0mfunc\u001b[0m\u001b[0;34m(\u001b[0m\u001b[0;34m*\u001b[0m\u001b[0margs\u001b[0m\u001b[0;34m,\u001b[0m \u001b[0;34m**\u001b[0m\u001b[0mkwargs\u001b[0m\u001b[0;34m)\u001b[0m\u001b[0;34m\u001b[0m\u001b[0;34m\u001b[0m\u001b[0m\n\u001b[0m\u001b[1;32m     16\u001b[0m         \u001b[0;32mreturn\u001b[0m \u001b[0mdecorate_context\u001b[0m\u001b[0;34m\u001b[0m\u001b[0;34m\u001b[0m\u001b[0m\n\u001b[1;32m     17\u001b[0m \u001b[0;34m\u001b[0m\u001b[0m\n",
      "\u001b[0;32m/opt/anaconda3/envs/rl1/lib/python3.7/site-packages/torch/optim/adam.py\u001b[0m in \u001b[0;36mstep\u001b[0;34m(self, closure)\u001b[0m\n\u001b[1;32m    105\u001b[0m                     \u001b[0mdenom\u001b[0m \u001b[0;34m=\u001b[0m \u001b[0;34m(\u001b[0m\u001b[0mmax_exp_avg_sq\u001b[0m\u001b[0;34m.\u001b[0m\u001b[0msqrt\u001b[0m\u001b[0;34m(\u001b[0m\u001b[0;34m)\u001b[0m \u001b[0;34m/\u001b[0m \u001b[0mmath\u001b[0m\u001b[0;34m.\u001b[0m\u001b[0msqrt\u001b[0m\u001b[0;34m(\u001b[0m\u001b[0mbias_correction2\u001b[0m\u001b[0;34m)\u001b[0m\u001b[0;34m)\u001b[0m\u001b[0;34m.\u001b[0m\u001b[0madd_\u001b[0m\u001b[0;34m(\u001b[0m\u001b[0mgroup\u001b[0m\u001b[0;34m[\u001b[0m\u001b[0;34m'eps'\u001b[0m\u001b[0;34m]\u001b[0m\u001b[0;34m)\u001b[0m\u001b[0;34m\u001b[0m\u001b[0;34m\u001b[0m\u001b[0m\n\u001b[1;32m    106\u001b[0m                 \u001b[0;32melse\u001b[0m\u001b[0;34m:\u001b[0m\u001b[0;34m\u001b[0m\u001b[0;34m\u001b[0m\u001b[0m\n\u001b[0;32m--> 107\u001b[0;31m                     \u001b[0mdenom\u001b[0m \u001b[0;34m=\u001b[0m \u001b[0;34m(\u001b[0m\u001b[0mexp_avg_sq\u001b[0m\u001b[0;34m.\u001b[0m\u001b[0msqrt\u001b[0m\u001b[0;34m(\u001b[0m\u001b[0;34m)\u001b[0m \u001b[0;34m/\u001b[0m \u001b[0mmath\u001b[0m\u001b[0;34m.\u001b[0m\u001b[0msqrt\u001b[0m\u001b[0;34m(\u001b[0m\u001b[0mbias_correction2\u001b[0m\u001b[0;34m)\u001b[0m\u001b[0;34m)\u001b[0m\u001b[0;34m.\u001b[0m\u001b[0madd_\u001b[0m\u001b[0;34m(\u001b[0m\u001b[0mgroup\u001b[0m\u001b[0;34m[\u001b[0m\u001b[0;34m'eps'\u001b[0m\u001b[0;34m]\u001b[0m\u001b[0;34m)\u001b[0m\u001b[0;34m\u001b[0m\u001b[0;34m\u001b[0m\u001b[0m\n\u001b[0m\u001b[1;32m    108\u001b[0m \u001b[0;34m\u001b[0m\u001b[0m\n\u001b[1;32m    109\u001b[0m                 \u001b[0mstep_size\u001b[0m \u001b[0;34m=\u001b[0m \u001b[0mgroup\u001b[0m\u001b[0;34m[\u001b[0m\u001b[0;34m'lr'\u001b[0m\u001b[0;34m]\u001b[0m \u001b[0;34m/\u001b[0m \u001b[0mbias_correction1\u001b[0m\u001b[0;34m\u001b[0m\u001b[0;34m\u001b[0m\u001b[0m\n",
      "\u001b[0;31mKeyboardInterrupt\u001b[0m: "
     ]
    }
   ],
   "source": [
    "cuda_ = \"cuda:0\"\n",
    "device = torch.device(cuda_ if torch.cuda.is_available() else \"cpu\")\n",
    "\n",
    "seed = 42\n",
    "results = []\n",
    "all_episode_weights = []\n",
    "\n",
    "print(device)\n",
    "\n",
    "test_envs = [\"CartPole-v1\", \"Acrobot-v1\", \"LunarLander-v2\", \"MountainCar-v0\" ]\n",
    "runs_per_setup = 25\n",
    "num_episodes = 1500\n",
    "discount_factor = 0.8\n",
    "\n",
    "\n",
    "# for i in range(runs_per_setup):                      \n",
    "#     for memory_size in [10000]:                    # 3\n",
    "#         for learn_rate in [1e-2, 1e-3, 1e-4, 1e-5]:          # 4\n",
    "#             for num_hidden in [512]:           # 4\n",
    "#                 for env in test_envs:                       # 4\n",
    "#                     for use_target in [True, False]:        # 2\n",
    "#                                                             # = 384 runs \n",
    "\n",
    "# Jan: [mem_size: 10.000, use_target: True]\n",
    "# Longxiang: [mem_size: 10.000, use_target: False]\n",
    "# Alex: [mem_size: 64, use_target: True]\n",
    "# Fabrizio: [mem_size: 64, use_target: False]\n",
    "\n",
    "for i in range(runs_per_setup):                      \n",
    "    for memory_size in [64]:                    # 2\n",
    "        for learn_rate in [1e-2, 1e-3, 1e-4]:          # 3\n",
    "            for num_hidden in [128, 256, 512]:           # 3\n",
    "                for env in test_envs:                       # 4\n",
    "                    for use_target in [True]:        # 2\n",
    "                                                            # = 144 runs\n",
    "                        if memory_size < 64:\n",
    "                            batch_size = memory_size\n",
    "                        else:\n",
    "                            batch_size = 64\n",
    "\n",
    "                        seed += 1\n",
    "                        new_env = gym.envs.make(env)\n",
    "                        memory = ReplayMemory(memory_size)\n",
    "\n",
    "                        random.seed(seed)\n",
    "                        torch.manual_seed(seed)\n",
    "                        new_env.seed(seed)\n",
    "\n",
    "                        setup = {\"env\":env, \"batch_size\":batch_size, \"use_target\":use_target, \"num_hidden\":num_hidden, \"learn_rate\":learn_rate, \"memory_size\":memory_size, \"discount_factor\":discount_factor, \"run\":i}\n",
    "\n",
    "                        try:\n",
    "                            # Continious obs space\n",
    "                            Q_net = QNetwork(num_hidden, observation_space=new_env.observation_space.low.shape[0], action_space=new_env.action_space.n).to(device)\n",
    "                            obs_space = new_env.observation_space.low.shape[0]\n",
    "                        except:\n",
    "                            # Discrete obs space\n",
    "                            Q_net = QNetwork(num_hidden, observation_space=new_env.observation_space.n, action_space=new_env.action_space.n).to(device)\n",
    "                            obs_space = new_env.observation_space.n\n",
    "\n",
    "                        policy = EpsilonGreedyPolicy(Q_net, 0.05)\n",
    "                        episode_scores, episode_weights = run_episodes(train, Q_net, policy, memory, new_env, num_episodes, batch_size, discount_factor, learn_rate, device, use_target_net=use_target)        \n",
    "\n",
    "                        # # L2 norm calculation\n",
    "                        l2_norms=[]\n",
    "                        for weights in episode_weights:\n",
    "                            all_weights = []\n",
    "                            for layer in weights.keys():\n",
    "                                all_weights.append(weights[layer].flatten())\n",
    "                            all_weights = torch.cat(all_weights, dim=0)\n",
    "                            l2_norms.append(torch.norm(((all_weights)), 2, -1))\n",
    "\n",
    "                        # # Save results\n",
    "                        results.append({**setup, **{\"scores\":episode_scores, \"l2_norms\":l2_norms}})\n",
    "                        df = pd.DataFrame(results)\n",
    "                        df.to_csv(\"results.csv\")\n",
    "\n",
    "                        # save network weight history\n",
    "                        all_episode_weights.append({**setup, **{\"episode_network_weights\":episode_weights}})\n",
    "                        with open('all_runs_weight_histoires.pkl', 'wb') as handle:\n",
    "                            pickle.dump(all_episode_weights, handle, protocol=pickle.HIGHEST_PROTOCOL)\n",
    "\n",
    "                        # plt.plot(l2_norms)\n",
    "                        # plt.show()\n",
    "\n"
   ]
  },
  {
   "cell_type": "code",
   "execution_count": null,
   "metadata": {},
   "outputs": [],
   "source": [
    "with open('all_runs_weight_histoires.pkl', 'rb') as handle:\n",
    "    weight_dict = pickle.load(handle)\n",
    "\n",
    "weight_dict[0][\"episode_network_weights\"][0].keys()\n"
   ]
  },
  {
   "cell_type": "code",
   "execution_count": 242,
   "metadata": {},
   "outputs": [
    {
     "name": "stdout",
     "output_type": "stream",
     "text": [
      "\\begin{tabular}{lllrrrr}\n",
      "\\toprule\n",
      "{} &             env &  use\\_target &  memory\\_size &  learn\\_rate &  num\\_hidden &  convergence \\\\\n",
      "\\midrule\n",
      "36 &     CartPole-v1 &        True &           64 &        0.01 &         128 &          101 \\\\\n",
      "37 &      Acrobot-v1 &        True &           64 &        0.01 &         128 &          103 \\\\\n",
      "38 &  LunarLander-v2 &        True &           64 &        0.01 &         128 &          140 \\\\\n",
      "39 &  MountainCar-v0 &        True &           64 &        0.01 &         128 &          101 \\\\\n",
      "\\bottomrule\n",
      "\\end{tabular}\n",
      "\n",
      "\\begin{tabular}{lllrrrr}\n",
      "\\toprule\n",
      "{} &             env &  use\\_target &  memory\\_size &  learn\\_rate &  num\\_hidden &  convergence \\\\\n",
      "\\midrule\n",
      "36 &     CartPole-v1 &        True &        10000 &        0.01 &         128 &          101 \\\\\n",
      "37 &      Acrobot-v1 &        True &        10000 &        0.01 &         128 &          196 \\\\\n",
      "38 &  LunarLander-v2 &        True &        10000 &        0.01 &         128 &          105 \\\\\n",
      "39 &  MountainCar-v0 &        True &        10000 &        0.01 &         128 &          101 \\\\\n",
      "\\bottomrule\n",
      "\\end{tabular}\n",
      "\n",
      "\\begin{tabular}{lllrrrr}\n",
      "\\toprule\n",
      "{} &             env &  use\\_target &  memory\\_size &  learn\\_rate &  num\\_hidden &  convergence \\\\\n",
      "\\midrule\n",
      "8  &     CartPole-v1 &       False &           64 &      0.0001 &         256 &          101 \\\\\n",
      "9  &      Acrobot-v1 &       False &           64 &      0.0001 &         256 &          145 \\\\\n",
      "10 &  LunarLander-v2 &       False &           64 &      0.0001 &         256 &          106 \\\\\n",
      "11 &  MountainCar-v0 &       False &           64 &      0.0001 &         256 &          101 \\\\\n",
      "\\bottomrule\n",
      "\\end{tabular}\n",
      "\n",
      "\\begin{tabular}{lllrrrr}\n",
      "\\toprule\n",
      "{} &             env &  use\\_target &  memory\\_size &  learn\\_rate &  num\\_hidden &  convergence \\\\\n",
      "\\midrule\n",
      "32 &     CartPole-v1 &       False &        10000 &      0.0001 &         512 &          101 \\\\\n",
      "33 &      Acrobot-v1 &       False &        10000 &      0.0001 &         512 &          127 \\\\\n",
      "34 &  LunarLander-v2 &       False &        10000 &      0.0001 &         512 &          121 \\\\\n",
      "35 &  MountainCar-v0 &       False &        10000 &      0.0001 &         512 &          101 \\\\\n",
      "\\bottomrule\n",
      "\\end{tabular}\n",
      "\n"
     ]
    },
    {
     "data": {
      "image/png": "[encoded data removed]",
      "text/plain": [
       "<Figure size 432x288 with 1 Axes>"
      ]
     },
     "metadata": {
      "needs_background": "light"
     },
     "output_type": "display_data"
    },
    {
     "data": {
      "image/png": "[encoded data removed]",
      "text/plain": [
       "<Figure size 432x288 with 1 Axes>"
      ]
     },
     "metadata": {
      "needs_background": "light"
     },
     "output_type": "display_data"
    },
    {
     "data": {
      "image/png": "[encoded data removed]",
      "text/plain": [
       "<Figure size 432x288 with 1 Axes>"
      ]
     },
     "metadata": {
      "needs_background": "light"
     },
     "output_type": "display_data"
    },
    {
     "data": {
      "image/png": "[encoded data removed]",
      "text/plain": [
       "<Figure size 432x288 with 1 Axes>"
      ]
     },
     "metadata": {
      "needs_background": "light"
     },
     "output_type": "display_data"
    }
   ],
   "source": [
    "def read_results(filename):\n",
    "    results = pd.read_csv(filename)\n",
    "    results.scores = results.apply(lambda x: [float(score.strip(' []')) for score in x.scores.split(',')], 1)\n",
    "    return results\n",
    "\n",
    "def convergence_check(row, delta, average_range):\n",
    "    scores = row.scores\n",
    "    \n",
    "    for i in range(average_range,len(scores)-average_range):\n",
    "        left_window = scores[(i-average_range):i]\n",
    "        right_window = scores[(i+1):(i+1+average_range)]\n",
    "        \n",
    "        if np.abs(np.average(left_window) - np.average(right_window)) < delta:\n",
    "            return (i+1+average_range)\n",
    "    return -1\n",
    "\n",
    "def get_convergence(tenv_res, convergence_check, delta, average_range, axis=1):\n",
    "    return tenv_res.apply(lambda x: convergence_check(x, delta, average_range), axis )\n",
    "\n",
    "def title_format(mem_params, target_net):\n",
    "    target_net_string = \"\"\n",
    "    if target_net:\n",
    "        target_net_string = \"_target_network_true\"\n",
    "    mem_params = str(mem_params)\n",
    "    return\"convergence_memory_size_{}{}.png\".format(mem_params,target_net_string)\n",
    "\n",
    "\n",
    "def plot_results(filename, mem_params, target_net, test_envs=test_envs, delta=0.5, average_range=50):\n",
    "    results = read_results(filename)\n",
    "    results['convergence'] = get_convergence(results, convergence_check, delta, average_range)\n",
    "    \n",
    "    plt.figure()\n",
    "    sum_len = len(results[results.env==test_envs[-1]])\n",
    "    cum_sum = np.zeros(sum_len)\n",
    "    for tenv in test_envs:\n",
    "        tenv_res = results[results.env == tenv]\n",
    "        \n",
    "        # calculate cumulative sum\n",
    "        convergence = tenv_res.convergence.tolist()\n",
    "        if len(convergence) == sum_len:\n",
    "            cum_sum += convergence\n",
    "        else:\n",
    "            cum_sum += convergence[:-1]\n",
    "\n",
    "        idx = np.argmin(cum_sum)\n",
    "        minimum = tenv_res.iloc[idx, 0]\n",
    "        \n",
    "        label = \"{}, avg: {}, std: {}\".format(tenv, round(np.average(convergence)), round(np.std(convergence)))\n",
    "        plt.plot(convergence, label=label)\n",
    "\n",
    "\n",
    "    print(results.iloc[(minimum-3):minimum+1, :][[\"env\", \"use_target\", \"memory_size\", \"learn_rate\", \"num_hidden\", \"convergence\"]].to_latex())\n",
    "    plt.plot(cum_sum, label=\"Cumulative Sum over environments\")\n",
    "    title = title_format(mem_params, target_net)\n",
    "#     plt.title(title)\n",
    "    plt.legend()\n",
    "    plt.savefig(title)\n",
    "    \n",
    "\n",
    "test_envs = [\"CartPole-v1\", \"Acrobot-v1\", \"LunarLander-v2\", \"MountainCar-v0\" ]\n",
    "plot_results(\"results_alex.csv\", 64, True)\n",
    "plot_results(\"results_jan_2.csv\", 10000, True)\n",
    "plot_results(\"results_fabrizio_2.csv\", 64, False)\n",
    "plot_results(\"results_benjamin.csv\", 10000, False)"
   ]
  },
  {
   "cell_type": "code",
   "execution_count": null,
   "metadata": {},
   "outputs": [],
   "source": []
  }
 ],
 "metadata": {
  "celltoolbar": "Create Assignment",
  "kernelspec": {
   "display_name": "Python [conda env:rl1] *",
   "language": "python",
   "name": "conda-env-rl1-py"
  },
  "language_info": {
   "codemirror_mode": {
    "name": "ipython",
    "version": 3
   },
   "file_extension": ".py",
   "mimetype": "text/x-python",
   "name": "python",
   "nbconvert_exporter": "python",
   "pygments_lexer": "ipython3",
   "version": "3.7.3"
  }
 },
 "nbformat": 4,
 "nbformat_minor": 2
}
